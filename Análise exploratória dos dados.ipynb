{
 "cells": [
  {
   "cell_type": "markdown",
   "id": "6c04098b",
   "metadata": {},
   "source": [
    "# Análise Exploratória dos Dados\n",
    "- Vamos começar analisando na base gerada na [Etapa2](https://github.com/lucaslealx/HousePrices/blob/main/Etapa2.ipynb)\n",
    "- Vamos transformar nossos dados de forma que podemos utilizá-los no modelo"
   ]
  },
  {
   "cell_type": "code",
   "execution_count": 315,
   "id": "6480e949",
   "metadata": {},
   "outputs": [
    {
     "data": {
      "text/html": [
       "<div>\n",
       "<style scoped>\n",
       "    .dataframe tbody tr th:only-of-type {\n",
       "        vertical-align: middle;\n",
       "    }\n",
       "\n",
       "    .dataframe tbody tr th {\n",
       "        vertical-align: top;\n",
       "    }\n",
       "\n",
       "    .dataframe thead th {\n",
       "        text-align: right;\n",
       "    }\n",
       "</style>\n",
       "<table border=\"1\" class=\"dataframe\">\n",
       "  <thead>\n",
       "    <tr style=\"text-align: right;\">\n",
       "      <th></th>\n",
       "      <th>Id</th>\n",
       "      <th>MSSubClass</th>\n",
       "      <th>MSZoning</th>\n",
       "      <th>LotFrontage</th>\n",
       "      <th>LotArea</th>\n",
       "      <th>Street</th>\n",
       "      <th>Alley</th>\n",
       "      <th>LotShape</th>\n",
       "      <th>LandContour</th>\n",
       "      <th>Utilities</th>\n",
       "      <th>...</th>\n",
       "      <th>PoolArea</th>\n",
       "      <th>PoolQC</th>\n",
       "      <th>Fence</th>\n",
       "      <th>MiscFeature</th>\n",
       "      <th>MiscVal</th>\n",
       "      <th>MoSold</th>\n",
       "      <th>YrSold</th>\n",
       "      <th>SaleType</th>\n",
       "      <th>SaleCondition</th>\n",
       "      <th>SalePrice</th>\n",
       "    </tr>\n",
       "  </thead>\n",
       "  <tbody>\n",
       "    <tr>\n",
       "      <th>0</th>\n",
       "      <td>1</td>\n",
       "      <td>60</td>\n",
       "      <td>RL</td>\n",
       "      <td>65.0</td>\n",
       "      <td>8450</td>\n",
       "      <td>Pave</td>\n",
       "      <td>-1</td>\n",
       "      <td>Reg</td>\n",
       "      <td>Lvl</td>\n",
       "      <td>AllPub</td>\n",
       "      <td>...</td>\n",
       "      <td>0</td>\n",
       "      <td>-1</td>\n",
       "      <td>-1</td>\n",
       "      <td>-1</td>\n",
       "      <td>0</td>\n",
       "      <td>2</td>\n",
       "      <td>2008</td>\n",
       "      <td>WD</td>\n",
       "      <td>Normal</td>\n",
       "      <td>208500</td>\n",
       "    </tr>\n",
       "    <tr>\n",
       "      <th>1</th>\n",
       "      <td>2</td>\n",
       "      <td>20</td>\n",
       "      <td>RL</td>\n",
       "      <td>80.0</td>\n",
       "      <td>9600</td>\n",
       "      <td>Pave</td>\n",
       "      <td>-1</td>\n",
       "      <td>Reg</td>\n",
       "      <td>Lvl</td>\n",
       "      <td>AllPub</td>\n",
       "      <td>...</td>\n",
       "      <td>0</td>\n",
       "      <td>-1</td>\n",
       "      <td>-1</td>\n",
       "      <td>-1</td>\n",
       "      <td>0</td>\n",
       "      <td>5</td>\n",
       "      <td>2007</td>\n",
       "      <td>WD</td>\n",
       "      <td>Normal</td>\n",
       "      <td>181500</td>\n",
       "    </tr>\n",
       "    <tr>\n",
       "      <th>2</th>\n",
       "      <td>3</td>\n",
       "      <td>60</td>\n",
       "      <td>RL</td>\n",
       "      <td>68.0</td>\n",
       "      <td>11250</td>\n",
       "      <td>Pave</td>\n",
       "      <td>-1</td>\n",
       "      <td>IR1</td>\n",
       "      <td>Lvl</td>\n",
       "      <td>AllPub</td>\n",
       "      <td>...</td>\n",
       "      <td>0</td>\n",
       "      <td>-1</td>\n",
       "      <td>-1</td>\n",
       "      <td>-1</td>\n",
       "      <td>0</td>\n",
       "      <td>9</td>\n",
       "      <td>2008</td>\n",
       "      <td>WD</td>\n",
       "      <td>Normal</td>\n",
       "      <td>223500</td>\n",
       "    </tr>\n",
       "  </tbody>\n",
       "</table>\n",
       "<p>3 rows × 81 columns</p>\n",
       "</div>"
      ],
      "text/plain": [
       "   Id  MSSubClass MSZoning  LotFrontage  LotArea Street Alley LotShape  \\\n",
       "0   1          60       RL         65.0     8450   Pave    -1      Reg   \n",
       "1   2          20       RL         80.0     9600   Pave    -1      Reg   \n",
       "2   3          60       RL         68.0    11250   Pave    -1      IR1   \n",
       "\n",
       "  LandContour Utilities  ... PoolArea PoolQC Fence MiscFeature MiscVal MoSold  \\\n",
       "0         Lvl    AllPub  ...        0     -1    -1          -1       0      2   \n",
       "1         Lvl    AllPub  ...        0     -1    -1          -1       0      5   \n",
       "2         Lvl    AllPub  ...        0     -1    -1          -1       0      9   \n",
       "\n",
       "  YrSold  SaleType  SaleCondition  SalePrice  \n",
       "0   2008        WD         Normal     208500  \n",
       "1   2007        WD         Normal     181500  \n",
       "2   2008        WD         Normal     223500  \n",
       "\n",
       "[3 rows x 81 columns]"
      ]
     },
     "execution_count": 315,
     "metadata": {},
     "output_type": "execute_result"
    }
   ],
   "source": [
    "# Importando a base\n",
    "import pandas as pd\n",
    "treino = pd.read_csv('train_2.csv')\n",
    "teste = pd.read_csv('test_2.csv')\n",
    "treino.head(3)"
   ]
  },
  {
   "cell_type": "code",
   "execution_count": 316,
   "id": "78bd7f02",
   "metadata": {},
   "outputs": [
    {
     "data": {
      "text/plain": [
       "(1460, 81)"
      ]
     },
     "execution_count": 316,
     "metadata": {},
     "output_type": "execute_result"
    }
   ],
   "source": [
    "# Visualizando o shape das bases\n",
    "treino.shape"
   ]
  },
  {
   "cell_type": "code",
   "execution_count": 317,
   "id": "e2db5163",
   "metadata": {},
   "outputs": [
    {
     "name": "stdout",
     "output_type": "stream",
     "text": [
      "<class 'pandas.core.frame.DataFrame'>\n",
      "RangeIndex: 1460 entries, 0 to 1459\n",
      "Data columns (total 81 columns):\n",
      " #   Column         Non-Null Count  Dtype  \n",
      "---  ------         --------------  -----  \n",
      " 0   Id             1460 non-null   int64  \n",
      " 1   MSSubClass     1460 non-null   int64  \n",
      " 2   MSZoning       1460 non-null   object \n",
      " 3   LotFrontage    1460 non-null   float64\n",
      " 4   LotArea        1460 non-null   int64  \n",
      " 5   Street         1460 non-null   object \n",
      " 6   Alley          1460 non-null   object \n",
      " 7   LotShape       1460 non-null   object \n",
      " 8   LandContour    1460 non-null   object \n",
      " 9   Utilities      1460 non-null   object \n",
      " 10  LotConfig      1460 non-null   object \n",
      " 11  LandSlope      1460 non-null   object \n",
      " 12  Neighborhood   1460 non-null   object \n",
      " 13  Condition1     1460 non-null   object \n",
      " 14  Condition2     1460 non-null   object \n",
      " 15  BldgType       1460 non-null   object \n",
      " 16  HouseStyle     1460 non-null   object \n",
      " 17  OverallQual    1460 non-null   int64  \n",
      " 18  OverallCond    1460 non-null   int64  \n",
      " 19  YearBuilt      1460 non-null   int64  \n",
      " 20  YearRemodAdd   1460 non-null   int64  \n",
      " 21  RoofStyle      1460 non-null   object \n",
      " 22  RoofMatl       1460 non-null   object \n",
      " 23  Exterior1st    1460 non-null   object \n",
      " 24  Exterior2nd    1460 non-null   object \n",
      " 25  MasVnrType     1460 non-null   object \n",
      " 26  MasVnrArea     1460 non-null   float64\n",
      " 27  ExterQual      1460 non-null   object \n",
      " 28  ExterCond      1460 non-null   object \n",
      " 29  Foundation     1460 non-null   object \n",
      " 30  BsmtQual       1460 non-null   object \n",
      " 31  BsmtCond       1460 non-null   object \n",
      " 32  BsmtExposure   1460 non-null   object \n",
      " 33  BsmtFinType1   1460 non-null   object \n",
      " 34  BsmtFinSF1     1460 non-null   int64  \n",
      " 35  BsmtFinType2   1460 non-null   object \n",
      " 36  BsmtFinSF2     1460 non-null   object \n",
      " 37  BsmtUnfSF      1460 non-null   int64  \n",
      " 38  TotalBsmtSF    1460 non-null   int64  \n",
      " 39  Heating        1460 non-null   object \n",
      " 40  HeatingQC      1460 non-null   object \n",
      " 41  CentralAir     1460 non-null   object \n",
      " 42  Electrical     1460 non-null   object \n",
      " 43  1stFlrSF       1460 non-null   int64  \n",
      " 44  2ndFlrSF       1460 non-null   int64  \n",
      " 45  LowQualFinSF   1460 non-null   int64  \n",
      " 46  GrLivArea      1460 non-null   int64  \n",
      " 47  BsmtFullBath   1460 non-null   int64  \n",
      " 48  BsmtHalfBath   1460 non-null   int64  \n",
      " 49  FullBath       1460 non-null   int64  \n",
      " 50  HalfBath       1460 non-null   int64  \n",
      " 51  BedroomAbvGr   1460 non-null   int64  \n",
      " 52  KitchenAbvGr   1460 non-null   int64  \n",
      " 53  KitchenQual    1460 non-null   object \n",
      " 54  TotRmsAbvGrd   1460 non-null   int64  \n",
      " 55  Functional     1460 non-null   object \n",
      " 56  Fireplaces     1460 non-null   int64  \n",
      " 57  FireplaceQu    1460 non-null   object \n",
      " 58  GarageType     1460 non-null   object \n",
      " 59  GarageYrBlt    1460 non-null   float64\n",
      " 60  GarageFinish   1460 non-null   object \n",
      " 61  GarageCars     1460 non-null   int64  \n",
      " 62  GarageArea     1460 non-null   int64  \n",
      " 63  GarageQual     1460 non-null   object \n",
      " 64  GarageCond     1460 non-null   object \n",
      " 65  PavedDrive     1460 non-null   object \n",
      " 66  WoodDeckSF     1460 non-null   int64  \n",
      " 67  OpenPorchSF    1460 non-null   int64  \n",
      " 68  EnclosedPorch  1460 non-null   int64  \n",
      " 69  3SsnPorch      1460 non-null   int64  \n",
      " 70  ScreenPorch    1460 non-null   int64  \n",
      " 71  PoolArea       1460 non-null   int64  \n",
      " 72  PoolQC         1460 non-null   object \n",
      " 73  Fence          1460 non-null   object \n",
      " 74  MiscFeature    1460 non-null   object \n",
      " 75  MiscVal        1460 non-null   int64  \n",
      " 76  MoSold         1460 non-null   int64  \n",
      " 77  YrSold         1460 non-null   int64  \n",
      " 78  SaleType       1460 non-null   object \n",
      " 79  SaleCondition  1460 non-null   object \n",
      " 80  SalePrice      1460 non-null   int64  \n",
      "dtypes: float64(3), int64(34), object(44)\n",
      "memory usage: 924.0+ KB\n"
     ]
    }
   ],
   "source": [
    "# Podemos verificar novamente as informações dessa base\n",
    "treino.info()"
   ]
  },
  {
   "cell_type": "code",
   "execution_count": 318,
   "id": "8d1583ba",
   "metadata": {
    "scrolled": true
   },
   "outputs": [
    {
     "data": {
      "text/plain": [
       "object     44\n",
       "int64      34\n",
       "float64     3\n",
       "dtype: int64"
      ]
     },
     "execution_count": 318,
     "metadata": {},
     "output_type": "execute_result"
    }
   ],
   "source": [
    "# E também a quantidade de colunas de cada tipo\n",
    "treino.dtypes.value_counts()"
   ]
  },
  {
   "cell_type": "code",
   "execution_count": 319,
   "id": "27c22620",
   "metadata": {},
   "outputs": [
    {
     "data": {
      "text/plain": [
       "Id             1460\n",
       "LotArea        1073\n",
       "GrLivArea       861\n",
       "BsmtUnfSF       780\n",
       "1stFlrSF        753\n",
       "TotalBsmtSF     721\n",
       "SalePrice       663\n",
       "BsmtFinSF1      637\n",
       "GarageArea      441\n",
       "2ndFlrSF        417\n",
       "dtype: int64"
      ]
     },
     "execution_count": 319,
     "metadata": {},
     "output_type": "execute_result"
    }
   ],
   "source": [
    "# Verificando a cardinalidade dos dados\n",
    "treino.nunique().sort_values(ascending=False).head(10)"
   ]
  },
  {
   "cell_type": "markdown",
   "id": "1cc8128d",
   "metadata": {},
   "source": [
    "- Por mais que o Id tenha uma alta cardinalidade, não vamos eliminar esse valor pois vamos usar esse dado para fazer a submissão do nosso código"
   ]
  },
  {
   "cell_type": "markdown",
   "id": "e72e7c58",
   "metadata": {},
   "source": [
    "- **Vamos entender melhor a variável target (SalePrice)**"
   ]
  },
  {
   "cell_type": "code",
   "execution_count": 320,
   "id": "d7576170",
   "metadata": {},
   "outputs": [
    {
     "data": {
      "text/plain": [
       "count      1460.000000\n",
       "mean     180921.195890\n",
       "std       79442.502883\n",
       "min       34900.000000\n",
       "25%      129975.000000\n",
       "50%      163000.000000\n",
       "75%      214000.000000\n",
       "max      755000.000000\n",
       "Name: SalePrice, dtype: float64"
      ]
     },
     "execution_count": 320,
     "metadata": {},
     "output_type": "execute_result"
    }
   ],
   "source": [
    "# Visualizando a descrição estatística\n",
    "treino.SalePrice.describe()"
   ]
  },
  {
   "cell_type": "code",
   "execution_count": 321,
   "id": "22d3ebd1",
   "metadata": {},
   "outputs": [
    {
     "data": {
      "image/png": "[encoded data removed]",
      "text/plain": [
       "<Figure size 640x480 with 1 Axes>"
      ]
     },
     "metadata": {},
     "output_type": "display_data"
    }
   ],
   "source": [
    "# Visualizando um boxplot\n",
    "treino.SalePrice.plot.box();"
   ]
  },
  {
   "cell_type": "markdown",
   "id": "d40df369",
   "metadata": {},
   "source": [
    "- **Podemos avaliar diretamente a correlação das variáveis numéricas**"
   ]
  },
  {
   "cell_type": "code",
   "execution_count": 322,
   "id": "403a9da1",
   "metadata": {},
   "outputs": [
    {
     "data": {
      "text/plain": [
       "KitchenAbvGr    -0.135907\n",
       "EnclosedPorch   -0.128578\n",
       "MSSubClass      -0.084284\n",
       "OverallCond     -0.077856\n",
       "YrSold          -0.028923\n",
       "LowQualFinSF    -0.025606\n",
       "Id              -0.021917\n",
       "MiscVal         -0.021190\n",
       "BsmtHalfBath    -0.016844\n",
       "3SsnPorch        0.044584\n",
       "MoSold           0.046432\n",
       "PoolArea         0.092404\n",
       "ScreenPorch      0.111447\n",
       "BedroomAbvGr     0.168213\n",
       "BsmtUnfSF        0.214479\n",
       "BsmtFullBath     0.227122\n",
       "GarageYrBlt      0.261354\n",
       "LotArea          0.263843\n",
       "HalfBath         0.284108\n",
       "OpenPorchSF      0.315856\n",
       "2ndFlrSF         0.319334\n",
       "WoodDeckSF       0.324413\n",
       "LotFrontage      0.330222\n",
       "BsmtFinSF1       0.386420\n",
       "Fireplaces       0.466929\n",
       "MasVnrArea       0.472614\n",
       "YearRemodAdd     0.507101\n",
       "YearBuilt        0.522897\n",
       "TotRmsAbvGrd     0.533723\n",
       "FullBath         0.560664\n",
       "1stFlrSF         0.605852\n",
       "TotalBsmtSF      0.613581\n",
       "GarageArea       0.623431\n",
       "GarageCars       0.640409\n",
       "GrLivArea        0.708624\n",
       "OverallQual      0.790982\n",
       "SalePrice        1.000000\n",
       "Name: SalePrice, dtype: float64"
      ]
     },
     "execution_count": 322,
     "metadata": {},
     "output_type": "execute_result"
    }
   ],
   "source": [
    "# Verificando a correlação entre os valores\n",
    "treino.corr()['SalePrice'].sort_values()"
   ]
  },
  {
   "cell_type": "markdown",
   "id": "1446a827",
   "metadata": {},
   "source": [
    "- E visualizar graficamente\n",
    "    - Vamos considerar as colunas OverallQual, BsmtHalfBath, KitchenAbvGr\n",
    "    - Podemos utilizar um [gráfico de dispersão do próprio matplotlib](https://matplotlib.org/stable/plot_types/basic/scatter_plot.html#sphx-glr-plot-types-basic-scatter-plot-py)"
   ]
  },
  {
   "cell_type": "code",
   "execution_count": 323,
   "id": "76b6ba59",
   "metadata": {},
   "outputs": [
    {
     "data": {
      "image/png": "[encoded data removed]",
      "text/plain": [
       "<Figure size 1500x500 with 3 Axes>"
      ]
     },
     "metadata": {},
     "output_type": "display_data"
    }
   ],
   "source": [
    "# Criando esse gráfico\n",
    "import matplotlib.pyplot as plt\n",
    "import seaborn as sns\n",
    "\n",
    "fig, ax = plt.subplots(ncols=3,figsize=(15,5))\n",
    "\n",
    "sns.regplot(data=treino,x='OverallQual',y='SalePrice',ax=ax[0])\n",
    "sns.regplot(data=treino,x='BsmtHalfBath',y='SalePrice',ax=ax[1])\n",
    "sns.regplot(data=treino,x='KitchenAbvGr',y='SalePrice',ax=ax[2])\n",
    "\n",
    "ax[0].set(ylim=(0,700000))\n",
    "ax[1].set(ylim=(0,700000),yticks=[])\n",
    "ax[2].set(ylim=(0,700000),yticks=[])\n",
    "\n",
    "plt.show()"
   ]
  },
  {
   "cell_type": "markdown",
   "id": "b47fb565",
   "metadata": {},
   "source": [
    "- Podemos visualizar a correlação na forma de mapa de calor"
   ]
  },
  {
   "cell_type": "code",
   "execution_count": 324,
   "id": "f32d06f3",
   "metadata": {},
   "outputs": [
    {
     "data": {
      "image/png": "[encoded data removed]",
      "text/plain": [
       "<Figure size 1500x800 with 2 Axes>"
      ]
     },
     "metadata": {},
     "output_type": "display_data"
    }
   ],
   "source": [
    "# Criando um mapa de calor da correlação\n",
    "fig, ax = plt.subplots(figsize=(15,8))\n",
    "\n",
    "sns.heatmap(treino.corr(),cmap='RdYlGn')\n",
    "\n",
    "plt.show()"
   ]
  },
  {
   "cell_type": "markdown",
   "id": "aae351b4",
   "metadata": {},
   "source": [
    "- **E para as variáveis categóricas, podemos analisar se alguma delas possuem valores recorrentes**\n",
    "    - Por exemplo, todas as casas \"caras\" possuem ar condicionado central e as casas \"baratas\" não"
   ]
  },
  {
   "cell_type": "code",
   "execution_count": 325,
   "id": "d83ab245",
   "metadata": {},
   "outputs": [
    {
     "data": {
      "text/plain": [
       "Index(['MSZoning', 'Street', 'Alley', 'LotShape', 'LandContour', 'Utilities',\n",
       "       'LotConfig', 'LandSlope', 'Neighborhood', 'Condition1', 'Condition2',\n",
       "       'BldgType', 'HouseStyle', 'RoofStyle', 'RoofMatl', 'Exterior1st',\n",
       "       'Exterior2nd', 'MasVnrType', 'ExterQual', 'ExterCond', 'Foundation',\n",
       "       'BsmtQual', 'BsmtCond', 'BsmtExposure', 'BsmtFinType1', 'BsmtFinType2',\n",
       "       'BsmtFinSF2', 'Heating', 'HeatingQC', 'CentralAir', 'Electrical',\n",
       "       'KitchenQual', 'Functional', 'FireplaceQu', 'GarageType',\n",
       "       'GarageFinish', 'GarageQual', 'GarageCond', 'PavedDrive', 'PoolQC',\n",
       "       'Fence', 'MiscFeature', 'SaleType', 'SaleCondition'],\n",
       "      dtype='object')"
      ]
     },
     "execution_count": 325,
     "metadata": {},
     "output_type": "execute_result"
    }
   ],
   "source": [
    "# Selecionando as colunas que vamos trabalhar\n",
    "obj_cols = treino.columns[treino.dtypes == 'object']\n",
    "obj_cols"
   ]
  },
  {
   "cell_type": "code",
   "execution_count": 326,
   "id": "0c4aa9df",
   "metadata": {},
   "outputs": [
    {
     "data": {
      "text/html": [
       "<div>\n",
       "<style scoped>\n",
       "    .dataframe tbody tr th:only-of-type {\n",
       "        vertical-align: middle;\n",
       "    }\n",
       "\n",
       "    .dataframe tbody tr th {\n",
       "        vertical-align: top;\n",
       "    }\n",
       "\n",
       "    .dataframe thead th {\n",
       "        text-align: right;\n",
       "    }\n",
       "</style>\n",
       "<table border=\"1\" class=\"dataframe\">\n",
       "  <thead>\n",
       "    <tr style=\"text-align: right;\">\n",
       "      <th></th>\n",
       "      <th>MSZoning</th>\n",
       "      <th>Street</th>\n",
       "      <th>Alley</th>\n",
       "      <th>LotShape</th>\n",
       "      <th>LandContour</th>\n",
       "      <th>Utilities</th>\n",
       "      <th>LotConfig</th>\n",
       "      <th>LandSlope</th>\n",
       "      <th>Neighborhood</th>\n",
       "      <th>Condition1</th>\n",
       "      <th>...</th>\n",
       "      <th>GarageType</th>\n",
       "      <th>GarageFinish</th>\n",
       "      <th>GarageQual</th>\n",
       "      <th>GarageCond</th>\n",
       "      <th>PavedDrive</th>\n",
       "      <th>PoolQC</th>\n",
       "      <th>Fence</th>\n",
       "      <th>MiscFeature</th>\n",
       "      <th>SaleType</th>\n",
       "      <th>SaleCondition</th>\n",
       "    </tr>\n",
       "  </thead>\n",
       "  <tbody>\n",
       "    <tr>\n",
       "      <th>798</th>\n",
       "      <td>RL</td>\n",
       "      <td>Pave</td>\n",
       "      <td>-1</td>\n",
       "      <td>Reg</td>\n",
       "      <td>Lvl</td>\n",
       "      <td>AllPub</td>\n",
       "      <td>Inside</td>\n",
       "      <td>Gtl</td>\n",
       "      <td>NridgHt</td>\n",
       "      <td>Norm</td>\n",
       "      <td>...</td>\n",
       "      <td>BuiltIn</td>\n",
       "      <td>Fin</td>\n",
       "      <td>TA</td>\n",
       "      <td>TA</td>\n",
       "      <td>Y</td>\n",
       "      <td>-1</td>\n",
       "      <td>-1</td>\n",
       "      <td>-1</td>\n",
       "      <td>New</td>\n",
       "      <td>Partial</td>\n",
       "    </tr>\n",
       "    <tr>\n",
       "      <th>178</th>\n",
       "      <td>RL</td>\n",
       "      <td>Pave</td>\n",
       "      <td>-1</td>\n",
       "      <td>IR1</td>\n",
       "      <td>Lvl</td>\n",
       "      <td>AllPub</td>\n",
       "      <td>CulDSac</td>\n",
       "      <td>Gtl</td>\n",
       "      <td>StoneBr</td>\n",
       "      <td>Norm</td>\n",
       "      <td>...</td>\n",
       "      <td>Attchd</td>\n",
       "      <td>Fin</td>\n",
       "      <td>TA</td>\n",
       "      <td>TA</td>\n",
       "      <td>Y</td>\n",
       "      <td>-1</td>\n",
       "      <td>-1</td>\n",
       "      <td>-1</td>\n",
       "      <td>New</td>\n",
       "      <td>Partial</td>\n",
       "    </tr>\n",
       "  </tbody>\n",
       "</table>\n",
       "<p>2 rows × 44 columns</p>\n",
       "</div>"
      ],
      "text/plain": [
       "    MSZoning Street Alley LotShape LandContour Utilities LotConfig LandSlope  \\\n",
       "798       RL   Pave    -1      Reg         Lvl    AllPub    Inside       Gtl   \n",
       "178       RL   Pave    -1      IR1         Lvl    AllPub   CulDSac       Gtl   \n",
       "\n",
       "    Neighborhood Condition1  ... GarageType GarageFinish GarageQual  \\\n",
       "798      NridgHt       Norm  ...    BuiltIn          Fin         TA   \n",
       "178      StoneBr       Norm  ...     Attchd          Fin         TA   \n",
       "\n",
       "    GarageCond PavedDrive PoolQC Fence MiscFeature SaleType SaleCondition  \n",
       "798         TA          Y     -1    -1          -1      New       Partial  \n",
       "178         TA          Y     -1    -1          -1      New       Partial  \n",
       "\n",
       "[2 rows x 44 columns]"
      ]
     },
     "execution_count": 326,
     "metadata": {},
     "output_type": "execute_result"
    }
   ],
   "source": [
    "# Visualizando as casas mais caras\n",
    "caras = treino.sort_values('SalePrice').tail(10)\n",
    "caras = caras[obj_cols]\n",
    "caras.head(2)"
   ]
  },
  {
   "cell_type": "code",
   "execution_count": 327,
   "id": "f5cf2cdc",
   "metadata": {},
   "outputs": [
    {
     "data": {
      "text/html": [
       "<div>\n",
       "<style scoped>\n",
       "    .dataframe tbody tr th:only-of-type {\n",
       "        vertical-align: middle;\n",
       "    }\n",
       "\n",
       "    .dataframe tbody tr th {\n",
       "        vertical-align: top;\n",
       "    }\n",
       "\n",
       "    .dataframe thead th {\n",
       "        text-align: right;\n",
       "    }\n",
       "</style>\n",
       "<table border=\"1\" class=\"dataframe\">\n",
       "  <thead>\n",
       "    <tr style=\"text-align: right;\">\n",
       "      <th></th>\n",
       "      <th>MSZoning</th>\n",
       "      <th>Street</th>\n",
       "      <th>Alley</th>\n",
       "      <th>LotShape</th>\n",
       "      <th>LandContour</th>\n",
       "      <th>Utilities</th>\n",
       "      <th>LotConfig</th>\n",
       "      <th>LandSlope</th>\n",
       "      <th>Neighborhood</th>\n",
       "      <th>Condition1</th>\n",
       "      <th>...</th>\n",
       "      <th>GarageType</th>\n",
       "      <th>GarageFinish</th>\n",
       "      <th>GarageQual</th>\n",
       "      <th>GarageCond</th>\n",
       "      <th>PavedDrive</th>\n",
       "      <th>PoolQC</th>\n",
       "      <th>Fence</th>\n",
       "      <th>MiscFeature</th>\n",
       "      <th>SaleType</th>\n",
       "      <th>SaleCondition</th>\n",
       "    </tr>\n",
       "  </thead>\n",
       "  <tbody>\n",
       "    <tr>\n",
       "      <th>495</th>\n",
       "      <td>C (all)</td>\n",
       "      <td>Pave</td>\n",
       "      <td>-1</td>\n",
       "      <td>Reg</td>\n",
       "      <td>Lvl</td>\n",
       "      <td>AllPub</td>\n",
       "      <td>Inside</td>\n",
       "      <td>Gtl</td>\n",
       "      <td>IDOTRR</td>\n",
       "      <td>Norm</td>\n",
       "      <td>...</td>\n",
       "      <td>-1</td>\n",
       "      <td>-1</td>\n",
       "      <td>-1</td>\n",
       "      <td>-1</td>\n",
       "      <td>N</td>\n",
       "      <td>-1</td>\n",
       "      <td>GdWo</td>\n",
       "      <td>-1</td>\n",
       "      <td>WD</td>\n",
       "      <td>Abnorml</td>\n",
       "    </tr>\n",
       "    <tr>\n",
       "      <th>916</th>\n",
       "      <td>C (all)</td>\n",
       "      <td>Pave</td>\n",
       "      <td>-1</td>\n",
       "      <td>Reg</td>\n",
       "      <td>Lvl</td>\n",
       "      <td>AllPub</td>\n",
       "      <td>Inside</td>\n",
       "      <td>Gtl</td>\n",
       "      <td>IDOTRR</td>\n",
       "      <td>Norm</td>\n",
       "      <td>...</td>\n",
       "      <td>Detchd</td>\n",
       "      <td>Unf</td>\n",
       "      <td>TA</td>\n",
       "      <td>TA</td>\n",
       "      <td>Y</td>\n",
       "      <td>-1</td>\n",
       "      <td>-1</td>\n",
       "      <td>-1</td>\n",
       "      <td>WD</td>\n",
       "      <td>Abnorml</td>\n",
       "    </tr>\n",
       "  </tbody>\n",
       "</table>\n",
       "<p>2 rows × 44 columns</p>\n",
       "</div>"
      ],
      "text/plain": [
       "    MSZoning Street Alley LotShape LandContour Utilities LotConfig LandSlope  \\\n",
       "495  C (all)   Pave    -1      Reg         Lvl    AllPub    Inside       Gtl   \n",
       "916  C (all)   Pave    -1      Reg         Lvl    AllPub    Inside       Gtl   \n",
       "\n",
       "    Neighborhood Condition1  ... GarageType GarageFinish GarageQual  \\\n",
       "495       IDOTRR       Norm  ...         -1           -1         -1   \n",
       "916       IDOTRR       Norm  ...     Detchd          Unf         TA   \n",
       "\n",
       "    GarageCond PavedDrive PoolQC Fence MiscFeature SaleType SaleCondition  \n",
       "495         -1          N     -1  GdWo          -1       WD       Abnorml  \n",
       "916         TA          Y     -1    -1          -1       WD       Abnorml  \n",
       "\n",
       "[2 rows x 44 columns]"
      ]
     },
     "execution_count": 327,
     "metadata": {},
     "output_type": "execute_result"
    }
   ],
   "source": [
    "# E também as casas mais baratas\n",
    "baratas = treino.sort_values('SalePrice').head(10)\n",
    "baratas = baratas[obj_cols]\n",
    "baratas.head(2)"
   ]
  },
  {
   "cell_type": "code",
   "execution_count": 328,
   "id": "1c4622b3",
   "metadata": {},
   "outputs": [
    {
     "data": {
      "text/plain": [
       "MSZoning    1\n",
       "Street      1\n",
       "dtype: int64"
      ]
     },
     "execution_count": 328,
     "metadata": {},
     "output_type": "execute_result"
    }
   ],
   "source": [
    "# Verificando, das casas caras, valores que muito se repetem (muitos valores iguais)\n",
    "caras_val = caras.nunique()\n",
    "caras_val.head(2)"
   ]
  },
  {
   "cell_type": "code",
   "execution_count": 329,
   "id": "fec4e8fb",
   "metadata": {},
   "outputs": [
    {
     "data": {
      "text/plain": [
       "MSZoning    3\n",
       "Street      2\n",
       "dtype: int64"
      ]
     },
     "execution_count": 329,
     "metadata": {},
     "output_type": "execute_result"
    }
   ],
   "source": [
    "# Verificando agora para as casas mais baratas\n",
    "baratas_val = baratas.nunique()\n",
    "baratas_val.head(2)"
   ]
  },
  {
   "cell_type": "code",
   "execution_count": 330,
   "id": "05935841",
   "metadata": {},
   "outputs": [
    {
     "data": {
      "text/html": [
       "<div>\n",
       "<style scoped>\n",
       "    .dataframe tbody tr th:only-of-type {\n",
       "        vertical-align: middle;\n",
       "    }\n",
       "\n",
       "    .dataframe tbody tr th {\n",
       "        vertical-align: top;\n",
       "    }\n",
       "\n",
       "    .dataframe thead th {\n",
       "        text-align: right;\n",
       "    }\n",
       "</style>\n",
       "<table border=\"1\" class=\"dataframe\">\n",
       "  <thead>\n",
       "    <tr style=\"text-align: right;\">\n",
       "      <th></th>\n",
       "      <th>0</th>\n",
       "      <th>1</th>\n",
       "    </tr>\n",
       "  </thead>\n",
       "  <tbody>\n",
       "    <tr>\n",
       "      <th>Utilities</th>\n",
       "      <td>1</td>\n",
       "      <td>1</td>\n",
       "    </tr>\n",
       "    <tr>\n",
       "      <th>Condition2</th>\n",
       "      <td>1</td>\n",
       "      <td>1</td>\n",
       "    </tr>\n",
       "    <tr>\n",
       "      <th>Street</th>\n",
       "      <td>1</td>\n",
       "      <td>2</td>\n",
       "    </tr>\n",
       "    <tr>\n",
       "      <th>Condition1</th>\n",
       "      <td>1</td>\n",
       "      <td>2</td>\n",
       "    </tr>\n",
       "    <tr>\n",
       "      <th>BldgType</th>\n",
       "      <td>1</td>\n",
       "      <td>2</td>\n",
       "    </tr>\n",
       "    <tr>\n",
       "      <th>Heating</th>\n",
       "      <td>1</td>\n",
       "      <td>2</td>\n",
       "    </tr>\n",
       "    <tr>\n",
       "      <th>CentralAir</th>\n",
       "      <td>1</td>\n",
       "      <td>2</td>\n",
       "    </tr>\n",
       "    <tr>\n",
       "      <th>GarageQual</th>\n",
       "      <td>1</td>\n",
       "      <td>2</td>\n",
       "    </tr>\n",
       "    <tr>\n",
       "      <th>PavedDrive</th>\n",
       "      <td>1</td>\n",
       "      <td>2</td>\n",
       "    </tr>\n",
       "    <tr>\n",
       "      <th>MSZoning</th>\n",
       "      <td>1</td>\n",
       "      <td>3</td>\n",
       "    </tr>\n",
       "  </tbody>\n",
       "</table>\n",
       "</div>"
      ],
      "text/plain": [
       "            0  1\n",
       "Utilities   1  1\n",
       "Condition2  1  1\n",
       "Street      1  2\n",
       "Condition1  1  2\n",
       "BldgType    1  2\n",
       "Heating     1  2\n",
       "CentralAir  1  2\n",
       "GarageQual  1  2\n",
       "PavedDrive  1  2\n",
       "MSZoning    1  3"
      ]
     },
     "execution_count": 330,
     "metadata": {},
     "output_type": "execute_result"
    }
   ],
   "source": [
    "# Podemos unir esses valores\n",
    "rep = pd.concat([caras_val,baratas_val],axis=1).sort_values([0,1]).head(10)\n",
    "rep"
   ]
  },
  {
   "cell_type": "code",
   "execution_count": 331,
   "id": "913979d5",
   "metadata": {},
   "outputs": [
    {
     "data": {
      "text/html": [
       "<div>\n",
       "<style scoped>\n",
       "    .dataframe tbody tr th:only-of-type {\n",
       "        vertical-align: middle;\n",
       "    }\n",
       "\n",
       "    .dataframe tbody tr th {\n",
       "        vertical-align: top;\n",
       "    }\n",
       "\n",
       "    .dataframe thead th {\n",
       "        text-align: right;\n",
       "    }\n",
       "</style>\n",
       "<table border=\"1\" class=\"dataframe\">\n",
       "  <thead>\n",
       "    <tr style=\"text-align: right;\">\n",
       "      <th></th>\n",
       "      <th>Utilities</th>\n",
       "      <th>Condition2</th>\n",
       "      <th>Street</th>\n",
       "      <th>Condition1</th>\n",
       "      <th>BldgType</th>\n",
       "      <th>Heating</th>\n",
       "      <th>CentralAir</th>\n",
       "      <th>GarageQual</th>\n",
       "      <th>PavedDrive</th>\n",
       "      <th>MSZoning</th>\n",
       "    </tr>\n",
       "  </thead>\n",
       "  <tbody>\n",
       "    <tr>\n",
       "      <th>798</th>\n",
       "      <td>AllPub</td>\n",
       "      <td>Norm</td>\n",
       "      <td>Pave</td>\n",
       "      <td>Norm</td>\n",
       "      <td>1Fam</td>\n",
       "      <td>GasA</td>\n",
       "      <td>Y</td>\n",
       "      <td>TA</td>\n",
       "      <td>Y</td>\n",
       "      <td>RL</td>\n",
       "    </tr>\n",
       "    <tr>\n",
       "      <th>178</th>\n",
       "      <td>AllPub</td>\n",
       "      <td>Norm</td>\n",
       "      <td>Pave</td>\n",
       "      <td>Norm</td>\n",
       "      <td>1Fam</td>\n",
       "      <td>GasA</td>\n",
       "      <td>Y</td>\n",
       "      <td>TA</td>\n",
       "      <td>Y</td>\n",
       "      <td>RL</td>\n",
       "    </tr>\n",
       "    <tr>\n",
       "      <th>769</th>\n",
       "      <td>AllPub</td>\n",
       "      <td>Norm</td>\n",
       "      <td>Pave</td>\n",
       "      <td>Norm</td>\n",
       "      <td>1Fam</td>\n",
       "      <td>GasA</td>\n",
       "      <td>Y</td>\n",
       "      <td>TA</td>\n",
       "      <td>Y</td>\n",
       "      <td>RL</td>\n",
       "    </tr>\n",
       "    <tr>\n",
       "      <th>440</th>\n",
       "      <td>AllPub</td>\n",
       "      <td>Norm</td>\n",
       "      <td>Pave</td>\n",
       "      <td>Norm</td>\n",
       "      <td>1Fam</td>\n",
       "      <td>GasA</td>\n",
       "      <td>Y</td>\n",
       "      <td>TA</td>\n",
       "      <td>Y</td>\n",
       "      <td>RL</td>\n",
       "    </tr>\n",
       "    <tr>\n",
       "      <th>1046</th>\n",
       "      <td>AllPub</td>\n",
       "      <td>Norm</td>\n",
       "      <td>Pave</td>\n",
       "      <td>Norm</td>\n",
       "      <td>1Fam</td>\n",
       "      <td>GasA</td>\n",
       "      <td>Y</td>\n",
       "      <td>TA</td>\n",
       "      <td>Y</td>\n",
       "      <td>RL</td>\n",
       "    </tr>\n",
       "    <tr>\n",
       "      <th>803</th>\n",
       "      <td>AllPub</td>\n",
       "      <td>Norm</td>\n",
       "      <td>Pave</td>\n",
       "      <td>Norm</td>\n",
       "      <td>1Fam</td>\n",
       "      <td>GasA</td>\n",
       "      <td>Y</td>\n",
       "      <td>TA</td>\n",
       "      <td>Y</td>\n",
       "      <td>RL</td>\n",
       "    </tr>\n",
       "    <tr>\n",
       "      <th>898</th>\n",
       "      <td>AllPub</td>\n",
       "      <td>Norm</td>\n",
       "      <td>Pave</td>\n",
       "      <td>Norm</td>\n",
       "      <td>1Fam</td>\n",
       "      <td>GasA</td>\n",
       "      <td>Y</td>\n",
       "      <td>TA</td>\n",
       "      <td>Y</td>\n",
       "      <td>RL</td>\n",
       "    </tr>\n",
       "    <tr>\n",
       "      <th>1169</th>\n",
       "      <td>AllPub</td>\n",
       "      <td>Norm</td>\n",
       "      <td>Pave</td>\n",
       "      <td>Norm</td>\n",
       "      <td>1Fam</td>\n",
       "      <td>GasA</td>\n",
       "      <td>Y</td>\n",
       "      <td>TA</td>\n",
       "      <td>Y</td>\n",
       "      <td>RL</td>\n",
       "    </tr>\n",
       "    <tr>\n",
       "      <th>1182</th>\n",
       "      <td>AllPub</td>\n",
       "      <td>Norm</td>\n",
       "      <td>Pave</td>\n",
       "      <td>Norm</td>\n",
       "      <td>1Fam</td>\n",
       "      <td>GasA</td>\n",
       "      <td>Y</td>\n",
       "      <td>TA</td>\n",
       "      <td>Y</td>\n",
       "      <td>RL</td>\n",
       "    </tr>\n",
       "    <tr>\n",
       "      <th>691</th>\n",
       "      <td>AllPub</td>\n",
       "      <td>Norm</td>\n",
       "      <td>Pave</td>\n",
       "      <td>Norm</td>\n",
       "      <td>1Fam</td>\n",
       "      <td>GasA</td>\n",
       "      <td>Y</td>\n",
       "      <td>TA</td>\n",
       "      <td>Y</td>\n",
       "      <td>RL</td>\n",
       "    </tr>\n",
       "  </tbody>\n",
       "</table>\n",
       "</div>"
      ],
      "text/plain": [
       "     Utilities Condition2 Street Condition1 BldgType Heating CentralAir  \\\n",
       "798     AllPub       Norm   Pave       Norm     1Fam    GasA          Y   \n",
       "178     AllPub       Norm   Pave       Norm     1Fam    GasA          Y   \n",
       "769     AllPub       Norm   Pave       Norm     1Fam    GasA          Y   \n",
       "440     AllPub       Norm   Pave       Norm     1Fam    GasA          Y   \n",
       "1046    AllPub       Norm   Pave       Norm     1Fam    GasA          Y   \n",
       "803     AllPub       Norm   Pave       Norm     1Fam    GasA          Y   \n",
       "898     AllPub       Norm   Pave       Norm     1Fam    GasA          Y   \n",
       "1169    AllPub       Norm   Pave       Norm     1Fam    GasA          Y   \n",
       "1182    AllPub       Norm   Pave       Norm     1Fam    GasA          Y   \n",
       "691     AllPub       Norm   Pave       Norm     1Fam    GasA          Y   \n",
       "\n",
       "     GarageQual PavedDrive MSZoning  \n",
       "798          TA          Y       RL  \n",
       "178          TA          Y       RL  \n",
       "769          TA          Y       RL  \n",
       "440          TA          Y       RL  \n",
       "1046         TA          Y       RL  \n",
       "803          TA          Y       RL  \n",
       "898          TA          Y       RL  \n",
       "1169         TA          Y       RL  \n",
       "1182         TA          Y       RL  \n",
       "691          TA          Y       RL  "
      ]
     },
     "execution_count": 331,
     "metadata": {},
     "output_type": "execute_result"
    }
   ],
   "source": [
    "# Agora visualizando essas colunas para as casas mais caras\n",
    "caras[rep.index]"
   ]
  },
  {
   "cell_type": "code",
   "execution_count": 332,
   "id": "b51d624e",
   "metadata": {},
   "outputs": [
    {
     "data": {
      "text/html": [
       "<div>\n",
       "<style scoped>\n",
       "    .dataframe tbody tr th:only-of-type {\n",
       "        vertical-align: middle;\n",
       "    }\n",
       "\n",
       "    .dataframe tbody tr th {\n",
       "        vertical-align: top;\n",
       "    }\n",
       "\n",
       "    .dataframe thead th {\n",
       "        text-align: right;\n",
       "    }\n",
       "</style>\n",
       "<table border=\"1\" class=\"dataframe\">\n",
       "  <thead>\n",
       "    <tr style=\"text-align: right;\">\n",
       "      <th></th>\n",
       "      <th>Utilities</th>\n",
       "      <th>Condition2</th>\n",
       "      <th>Street</th>\n",
       "      <th>Condition1</th>\n",
       "      <th>BldgType</th>\n",
       "      <th>Heating</th>\n",
       "      <th>CentralAir</th>\n",
       "      <th>GarageQual</th>\n",
       "      <th>PavedDrive</th>\n",
       "      <th>MSZoning</th>\n",
       "    </tr>\n",
       "  </thead>\n",
       "  <tbody>\n",
       "    <tr>\n",
       "      <th>495</th>\n",
       "      <td>AllPub</td>\n",
       "      <td>Norm</td>\n",
       "      <td>Pave</td>\n",
       "      <td>Norm</td>\n",
       "      <td>1Fam</td>\n",
       "      <td>GasA</td>\n",
       "      <td>N</td>\n",
       "      <td>-1</td>\n",
       "      <td>N</td>\n",
       "      <td>C (all)</td>\n",
       "    </tr>\n",
       "    <tr>\n",
       "      <th>916</th>\n",
       "      <td>AllPub</td>\n",
       "      <td>Norm</td>\n",
       "      <td>Pave</td>\n",
       "      <td>Norm</td>\n",
       "      <td>1Fam</td>\n",
       "      <td>GasA</td>\n",
       "      <td>N</td>\n",
       "      <td>TA</td>\n",
       "      <td>Y</td>\n",
       "      <td>C (all)</td>\n",
       "    </tr>\n",
       "    <tr>\n",
       "      <th>968</th>\n",
       "      <td>AllPub</td>\n",
       "      <td>Norm</td>\n",
       "      <td>Pave</td>\n",
       "      <td>Norm</td>\n",
       "      <td>1Fam</td>\n",
       "      <td>Grav</td>\n",
       "      <td>N</td>\n",
       "      <td>-1</td>\n",
       "      <td>Y</td>\n",
       "      <td>RM</td>\n",
       "    </tr>\n",
       "    <tr>\n",
       "      <th>533</th>\n",
       "      <td>AllPub</td>\n",
       "      <td>Norm</td>\n",
       "      <td>Pave</td>\n",
       "      <td>Norm</td>\n",
       "      <td>1Fam</td>\n",
       "      <td>GasA</td>\n",
       "      <td>N</td>\n",
       "      <td>-1</td>\n",
       "      <td>N</td>\n",
       "      <td>RL</td>\n",
       "    </tr>\n",
       "    <tr>\n",
       "      <th>30</th>\n",
       "      <td>AllPub</td>\n",
       "      <td>Norm</td>\n",
       "      <td>Pave</td>\n",
       "      <td>Feedr</td>\n",
       "      <td>1Fam</td>\n",
       "      <td>GasA</td>\n",
       "      <td>N</td>\n",
       "      <td>TA</td>\n",
       "      <td>N</td>\n",
       "      <td>C (all)</td>\n",
       "    </tr>\n",
       "    <tr>\n",
       "      <th>710</th>\n",
       "      <td>AllPub</td>\n",
       "      <td>Norm</td>\n",
       "      <td>Pave</td>\n",
       "      <td>Norm</td>\n",
       "      <td>1Fam</td>\n",
       "      <td>GasA</td>\n",
       "      <td>Y</td>\n",
       "      <td>-1</td>\n",
       "      <td>N</td>\n",
       "      <td>RL</td>\n",
       "    </tr>\n",
       "    <tr>\n",
       "      <th>1337</th>\n",
       "      <td>AllPub</td>\n",
       "      <td>Norm</td>\n",
       "      <td>Pave</td>\n",
       "      <td>Feedr</td>\n",
       "      <td>1Fam</td>\n",
       "      <td>Grav</td>\n",
       "      <td>N</td>\n",
       "      <td>-1</td>\n",
       "      <td>N</td>\n",
       "      <td>RM</td>\n",
       "    </tr>\n",
       "    <tr>\n",
       "      <th>705</th>\n",
       "      <td>AllPub</td>\n",
       "      <td>Norm</td>\n",
       "      <td>Pave</td>\n",
       "      <td>Norm</td>\n",
       "      <td>2fmCon</td>\n",
       "      <td>GasA</td>\n",
       "      <td>N</td>\n",
       "      <td>-1</td>\n",
       "      <td>N</td>\n",
       "      <td>RM</td>\n",
       "    </tr>\n",
       "    <tr>\n",
       "      <th>1325</th>\n",
       "      <td>AllPub</td>\n",
       "      <td>Norm</td>\n",
       "      <td>Pave</td>\n",
       "      <td>Norm</td>\n",
       "      <td>1Fam</td>\n",
       "      <td>GasA</td>\n",
       "      <td>N</td>\n",
       "      <td>-1</td>\n",
       "      <td>N</td>\n",
       "      <td>RM</td>\n",
       "    </tr>\n",
       "    <tr>\n",
       "      <th>812</th>\n",
       "      <td>AllPub</td>\n",
       "      <td>Norm</td>\n",
       "      <td>Grvl</td>\n",
       "      <td>Norm</td>\n",
       "      <td>1Fam</td>\n",
       "      <td>GasA</td>\n",
       "      <td>N</td>\n",
       "      <td>TA</td>\n",
       "      <td>N</td>\n",
       "      <td>C (all)</td>\n",
       "    </tr>\n",
       "  </tbody>\n",
       "</table>\n",
       "</div>"
      ],
      "text/plain": [
       "     Utilities Condition2 Street Condition1 BldgType Heating CentralAir  \\\n",
       "495     AllPub       Norm   Pave       Norm     1Fam    GasA          N   \n",
       "916     AllPub       Norm   Pave       Norm     1Fam    GasA          N   \n",
       "968     AllPub       Norm   Pave       Norm     1Fam    Grav          N   \n",
       "533     AllPub       Norm   Pave       Norm     1Fam    GasA          N   \n",
       "30      AllPub       Norm   Pave      Feedr     1Fam    GasA          N   \n",
       "710     AllPub       Norm   Pave       Norm     1Fam    GasA          Y   \n",
       "1337    AllPub       Norm   Pave      Feedr     1Fam    Grav          N   \n",
       "705     AllPub       Norm   Pave       Norm   2fmCon    GasA          N   \n",
       "1325    AllPub       Norm   Pave       Norm     1Fam    GasA          N   \n",
       "812     AllPub       Norm   Grvl       Norm     1Fam    GasA          N   \n",
       "\n",
       "     GarageQual PavedDrive MSZoning  \n",
       "495          -1          N  C (all)  \n",
       "916          TA          Y  C (all)  \n",
       "968          -1          Y       RM  \n",
       "533          -1          N       RL  \n",
       "30           TA          N  C (all)  \n",
       "710          -1          N       RL  \n",
       "1337         -1          N       RM  \n",
       "705          -1          N       RM  \n",
       "1325         -1          N       RM  \n",
       "812          TA          N  C (all)  "
      ]
     },
     "execution_count": 332,
     "metadata": {},
     "output_type": "execute_result"
    }
   ],
   "source": [
    "# E para as mais baratas\n",
    "baratas[rep.index]"
   ]
  },
  {
   "cell_type": "markdown",
   "id": "0753f660",
   "metadata": {},
   "source": [
    "<a id=\"colunas\"></a>\n",
    "## Agora podemos investigar melhor essas principais colunas\n",
    "- **Index:**\n",
    "    - [Utilities](#Utilities)\n",
    "    - [CentralAir](#CentralAir)\n",
    "    - [PavedDrive](#PavedDrive)\n",
    "    - [MSZoning](#MSZoning)\n",
    "    - [GarageQual](#GarageQual)"
   ]
  },
  {
   "cell_type": "markdown",
   "id": "0e53c809",
   "metadata": {},
   "source": [
    "<a id=\"Utilities\"></a>\n",
    "- <font color=\"blue\">**Vamos começar primeiramente analisando a coluna \"Utilities\"**</font>"
   ]
  },
  {
   "cell_type": "code",
   "execution_count": 333,
   "id": "034948b6",
   "metadata": {},
   "outputs": [
    {
     "data": {
      "text/plain": [
       "AllPub    1459\n",
       "NoSeWa       1\n",
       "Name: Utilities, dtype: int64"
      ]
     },
     "execution_count": 333,
     "metadata": {},
     "output_type": "execute_result"
    }
   ],
   "source": [
    "# Verificando os valores nessa coluna para a base de treino\n",
    "treino.Utilities.value_counts()"
   ]
  },
  {
   "cell_type": "code",
   "execution_count": 334,
   "id": "dd8f08e7",
   "metadata": {},
   "outputs": [
    {
     "data": {
      "text/plain": [
       "AllPub    1459\n",
       "Name: Utilities, dtype: int64"
      ]
     },
     "execution_count": 334,
     "metadata": {},
     "output_type": "execute_result"
    }
   ],
   "source": [
    "# E para a base de teste\n",
    "teste.Utilities.value_counts()"
   ]
  },
  {
   "cell_type": "code",
   "execution_count": 335,
   "id": "22ed7ba2",
   "metadata": {},
   "outputs": [],
   "source": [
    "# Eliminando essa coluna nas 2 bases\n",
    "treino = treino.drop('Utilities',axis=1)\n",
    "\n",
    "teste = teste.drop('Utilities',axis=1)"
   ]
  },
  {
   "cell_type": "markdown",
   "id": "8a1950cf",
   "metadata": {},
   "source": [
    "<p style='text-align: right;'><a href=\"#colunas\">Voltar</a></p>"
   ]
  },
  {
   "cell_type": "markdown",
   "id": "dba4f4f4",
   "metadata": {},
   "source": [
    "<a id=\"CentralAir\"></a>\n",
    "- <font color=\"blue\">**Analisando a coluna \"CentralAir\"**</font>"
   ]
  },
  {
   "cell_type": "code",
   "execution_count": 336,
   "id": "9bce8176",
   "metadata": {},
   "outputs": [
    {
     "data": {
      "text/plain": [
       "Y    1365\n",
       "N      95\n",
       "Name: CentralAir, dtype: int64"
      ]
     },
     "execution_count": 336,
     "metadata": {},
     "output_type": "execute_result"
    }
   ],
   "source": [
    "# Verificando os valores nessa coluna\n",
    "treino.CentralAir.value_counts()"
   ]
  },
  {
   "cell_type": "code",
   "execution_count": 337,
   "id": "fa84a41e",
   "metadata": {
    "scrolled": true
   },
   "outputs": [
    {
     "data": {
      "image/png": "[encoded data removed]",
      "text/plain": [
       "<Figure size 1500x500 with 2 Axes>"
      ]
     },
     "metadata": {},
     "output_type": "display_data"
    }
   ],
   "source": [
    "# Visualizando a relação com o preço\n",
    "fig, ax = plt.subplots(ncols=2,figsize=(15,5))\n",
    "\n",
    "sns.boxplot(x=treino.CentralAir,y=treino.SalePrice,ax=ax[0])\n",
    "sns.kdeplot(treino.SalePrice,hue=treino.CentralAir,ax=ax[1])\n",
    "\n",
    "plt.show()"
   ]
  },
  {
   "cell_type": "markdown",
   "id": "cfec96a5",
   "metadata": {},
   "source": [
    "- O valor \"N\", apesar de aparecer na maioria das casas de menor valor, não é um valor tão frequente"
   ]
  },
  {
   "cell_type": "markdown",
   "id": "58d6c784",
   "metadata": {},
   "source": [
    "- **Podemos transformar essa coluna simplesmente colocando tudo que for Y como 1 e N como 0**"
   ]
  },
  {
   "cell_type": "code",
   "execution_count": 338,
   "id": "49aa4fa3",
   "metadata": {},
   "outputs": [],
   "source": [
    "# Substituindo os valores\n",
    "treino['CentralAirCheck'] = treino['CentralAir']\n",
    "treino['CentralAir'] = treino.CentralAir.apply(lambda x: 1 if x == \"Y\" else 0)"
   ]
  },
  {
   "cell_type": "code",
   "execution_count": 339,
   "id": "0261001a",
   "metadata": {},
   "outputs": [
    {
     "data": {
      "text/plain": [
       "CentralAirCheck  CentralAir\n",
       "Y                1             1365\n",
       "N                0               95\n",
       "dtype: int64"
      ]
     },
     "execution_count": 339,
     "metadata": {},
     "output_type": "execute_result"
    }
   ],
   "source": [
    "# Verificando o resultado\n",
    "treino[['CentralAirCheck','CentralAir']].value_counts()"
   ]
  },
  {
   "cell_type": "code",
   "execution_count": 340,
   "id": "f15418b2",
   "metadata": {},
   "outputs": [],
   "source": [
    "# Agora podemos apagar a coluna Check\n",
    "treino = treino.drop('CentralAirCheck',axis=1)"
   ]
  },
  {
   "cell_type": "markdown",
   "id": "749cef27",
   "metadata": {},
   "source": [
    "- Fazendo o mesmo para a **<font color='blue'>base de teste</font>**"
   ]
  },
  {
   "cell_type": "code",
   "execution_count": 341,
   "id": "3d967c8b",
   "metadata": {},
   "outputs": [],
   "source": [
    "# Aplicando a função na base de teste\n",
    "teste['CentralAir'] = teste.CentralAir.apply(lambda x: 1 if x == \"Y\" else 0)"
   ]
  },
  {
   "cell_type": "markdown",
   "id": "250a0d2e",
   "metadata": {},
   "source": [
    "<p style='text-align: right;'><a href=\"#colunas\">Voltar</a></p>"
   ]
  },
  {
   "cell_type": "markdown",
   "id": "02ea3c2c",
   "metadata": {},
   "source": [
    "<a id=\"PavedDrive\"></a>\n",
    "- <font color=\"blue\">**E também analisar a coluna \"PavedDrive\"** (calçada pavimentada)</font>\n",
    "    - Y: Paved \n",
    "    - P: Partial Pavement\n",
    "    - N: Dirt/Gravel"
   ]
  },
  {
   "cell_type": "code",
   "execution_count": 342,
   "id": "5344dc95",
   "metadata": {},
   "outputs": [
    {
     "data": {
      "text/plain": [
       "Y    1340\n",
       "N      90\n",
       "P      30\n",
       "Name: PavedDrive, dtype: int64"
      ]
     },
     "execution_count": 342,
     "metadata": {},
     "output_type": "execute_result"
    }
   ],
   "source": [
    "# Verificando os valores nessa coluna\n",
    "treino.PavedDrive.value_counts()"
   ]
  },
  {
   "cell_type": "code",
   "execution_count": 343,
   "id": "f48df216",
   "metadata": {},
   "outputs": [],
   "source": [
    "# Determinando a coluna analisada\n",
    "coluna = 'PavedDrive'"
   ]
  },
  {
   "cell_type": "code",
   "execution_count": 344,
   "id": "4d0ff6c1",
   "metadata": {},
   "outputs": [
    {
     "data": {
      "image/png": "[encoded data removed]",
      "text/plain": [
       "<Figure size 1500x500 with 2 Axes>"
      ]
     },
     "metadata": {},
     "output_type": "display_data"
    }
   ],
   "source": [
    "# Verificando a relação desses valores com o preço da casa\n",
    "fig, ax = plt.subplots(ncols=2,figsize=(15,5))\n",
    "\n",
    "sns.boxplot(x=treino[coluna],y=treino.SalePrice,ax=ax[0])\n",
    "sns.kdeplot(treino.SalePrice,hue=treino[coluna],ax=ax[1])\n",
    "\n",
    "plt.show()"
   ]
  },
  {
   "cell_type": "markdown",
   "id": "988c34fd",
   "metadata": {},
   "source": [
    "- **Podemos criar uma função capaz de transformar esses valores de texto em números**"
   ]
  },
  {
   "cell_type": "code",
   "execution_count": 345,
   "id": "d9f50927",
   "metadata": {},
   "outputs": [],
   "source": [
    "# Criando a função\n",
    "def DefinePavedDrive(x):\n",
    "    if x == 'Y':\n",
    "        return 1\n",
    "    elif x == 'N':\n",
    "        return 0\n",
    "    elif x == 'P':\n",
    "        return 0.5\n",
    "    else:\n",
    "        return -1"
   ]
  },
  {
   "cell_type": "code",
   "execution_count": 346,
   "id": "f3dc9897",
   "metadata": {},
   "outputs": [],
   "source": [
    "# Aplicando essa função\n",
    "treino['PavedDriveCheck'] = treino['PavedDrive']\n",
    "treino['PavedDrive'] = treino.PavedDrive.apply(DefinePavedDrive)"
   ]
  },
  {
   "cell_type": "code",
   "execution_count": 347,
   "id": "98247313",
   "metadata": {},
   "outputs": [
    {
     "data": {
      "text/plain": [
       "PavedDriveCheck  PavedDrive\n",
       "Y                1.0           1340\n",
       "N                0.0             90\n",
       "P                0.5             30\n",
       "dtype: int64"
      ]
     },
     "execution_count": 347,
     "metadata": {},
     "output_type": "execute_result"
    }
   ],
   "source": [
    "# Verificando o resultado\n",
    "treino[['PavedDriveCheck','PavedDrive']].value_counts()"
   ]
  },
  {
   "cell_type": "code",
   "execution_count": 348,
   "id": "0548fa19",
   "metadata": {},
   "outputs": [],
   "source": [
    "# Agora podemos apagar a coluna Check\n",
    "treino = treino.drop('PavedDriveCheck',axis=1)"
   ]
  },
  {
   "cell_type": "markdown",
   "id": "1c25d9ca",
   "metadata": {},
   "source": [
    "- E para a **<font color='blue'>base de teste</font>**"
   ]
  },
  {
   "cell_type": "code",
   "execution_count": 349,
   "id": "c3512398",
   "metadata": {},
   "outputs": [],
   "source": [
    "# Fazendo para a base de teste\n",
    "teste['PavedDrive'] = teste.PavedDrive.apply(DefinePavedDrive)"
   ]
  },
  {
   "cell_type": "markdown",
   "id": "018bf7ae",
   "metadata": {},
   "source": [
    "<p style='text-align: right;'><a href=\"#colunas\">Voltar</a></p>"
   ]
  },
  {
   "cell_type": "markdown",
   "id": "14041f84",
   "metadata": {},
   "source": [
    "<a id=\"MSZoning\"></a>\n",
    "- <font color=\"blue\">**Agora podemos entender a relação do \"MSZoning\" com o preço**</font>"
   ]
  },
  {
   "cell_type": "code",
   "execution_count": 350,
   "id": "6fc15136",
   "metadata": {},
   "outputs": [
    {
     "data": {
      "text/plain": [
       "MSZoning\n",
       "C (all)     74528.000000\n",
       "FV         214014.061538\n",
       "RH         131558.375000\n",
       "RL         191004.994787\n",
       "RM         126316.830275\n",
       "Name: SalePrice, dtype: float64"
      ]
     },
     "execution_count": 350,
     "metadata": {},
     "output_type": "execute_result"
    }
   ],
   "source": [
    "# Fazendo um groupby desses dados para ver a média\n",
    "treino.groupby('MSZoning')['SalePrice'].mean()"
   ]
  },
  {
   "cell_type": "code",
   "execution_count": 351,
   "id": "0a33001a",
   "metadata": {},
   "outputs": [
    {
     "data": {
      "text/html": [
       "<div>\n",
       "<style scoped>\n",
       "    .dataframe tbody tr th:only-of-type {\n",
       "        vertical-align: middle;\n",
       "    }\n",
       "\n",
       "    .dataframe tbody tr th {\n",
       "        vertical-align: top;\n",
       "    }\n",
       "\n",
       "    .dataframe thead th {\n",
       "        text-align: right;\n",
       "    }\n",
       "</style>\n",
       "<table border=\"1\" class=\"dataframe\">\n",
       "  <thead>\n",
       "    <tr style=\"text-align: right;\">\n",
       "      <th></th>\n",
       "      <th>mean</th>\n",
       "      <th>min</th>\n",
       "      <th>max</th>\n",
       "      <th>count</th>\n",
       "      <th>median</th>\n",
       "    </tr>\n",
       "    <tr>\n",
       "      <th>MSZoning</th>\n",
       "      <th></th>\n",
       "      <th></th>\n",
       "      <th></th>\n",
       "      <th></th>\n",
       "      <th></th>\n",
       "    </tr>\n",
       "  </thead>\n",
       "  <tbody>\n",
       "    <tr>\n",
       "      <th>C (all)</th>\n",
       "      <td>74528.000000</td>\n",
       "      <td>34900</td>\n",
       "      <td>133900</td>\n",
       "      <td>10</td>\n",
       "      <td>74700.0</td>\n",
       "    </tr>\n",
       "    <tr>\n",
       "      <th>FV</th>\n",
       "      <td>214014.061538</td>\n",
       "      <td>144152</td>\n",
       "      <td>370878</td>\n",
       "      <td>65</td>\n",
       "      <td>205950.0</td>\n",
       "    </tr>\n",
       "    <tr>\n",
       "      <th>RH</th>\n",
       "      <td>131558.375000</td>\n",
       "      <td>76000</td>\n",
       "      <td>200000</td>\n",
       "      <td>16</td>\n",
       "      <td>136500.0</td>\n",
       "    </tr>\n",
       "    <tr>\n",
       "      <th>RL</th>\n",
       "      <td>191004.994787</td>\n",
       "      <td>39300</td>\n",
       "      <td>755000</td>\n",
       "      <td>1151</td>\n",
       "      <td>174000.0</td>\n",
       "    </tr>\n",
       "    <tr>\n",
       "      <th>RM</th>\n",
       "      <td>126316.830275</td>\n",
       "      <td>37900</td>\n",
       "      <td>475000</td>\n",
       "      <td>218</td>\n",
       "      <td>120500.0</td>\n",
       "    </tr>\n",
       "  </tbody>\n",
       "</table>\n",
       "</div>"
      ],
      "text/plain": [
       "                   mean     min     max  count    median\n",
       "MSZoning                                                \n",
       "C (all)    74528.000000   34900  133900     10   74700.0\n",
       "FV        214014.061538  144152  370878     65  205950.0\n",
       "RH        131558.375000   76000  200000     16  136500.0\n",
       "RL        191004.994787   39300  755000   1151  174000.0\n",
       "RM        126316.830275   37900  475000    218  120500.0"
      ]
     },
     "execution_count": 351,
     "metadata": {},
     "output_type": "execute_result"
    }
   ],
   "source": [
    "# Visualizando também mínimo, máximo e contagem\n",
    "treino.groupby('MSZoning')['SalePrice'].agg(['mean','min','max','count','median'])"
   ]
  },
  {
   "cell_type": "code",
   "execution_count": 352,
   "id": "db7fdd81",
   "metadata": {},
   "outputs": [
    {
     "data": {
      "image/png": "[encoded data removed]",
      "text/plain": [
       "<Figure size 1500x500 with 2 Axes>"
      ]
     },
     "metadata": {},
     "output_type": "display_data"
    }
   ],
   "source": [
    "# Podemos inclusive visualizar a distribuição desses valores\n",
    "coluna = 'MSZoning'\n",
    "\n",
    "fig, ax = plt.subplots(ncols=2,figsize=(15,5))\n",
    "\n",
    "sns.boxplot(x=treino[coluna],y=treino.SalePrice,ax=ax[0])\n",
    "sns.kdeplot(treino.SalePrice,hue=treino[coluna],ax=ax[1])\n",
    "\n",
    "plt.show()"
   ]
  },
  {
   "cell_type": "markdown",
   "id": "35c3addb",
   "metadata": {},
   "source": [
    "- **Para resolver o problema de variáveis textuais, podemos utilizar agora o OneHotEncoder e transformar cada um desses valores em uma nova coluna**\n",
    "    - https://scikit-learn.org/stable/modules/generated/sklearn.preprocessing.OneHotEncoder.html"
   ]
  },
  {
   "cell_type": "code",
   "execution_count": 353,
   "id": "f0810cfe",
   "metadata": {},
   "outputs": [],
   "source": [
    "# Importando\n",
    "from sklearn.preprocessing import OneHotEncoder"
   ]
  },
  {
   "cell_type": "code",
   "execution_count": 354,
   "id": "f88308e6",
   "metadata": {},
   "outputs": [],
   "source": [
    "# Criando o encoder para essa coluna\n",
    "ohe_MSZoning = OneHotEncoder(handle_unknown='ignore')"
   ]
  },
  {
   "cell_type": "code",
   "execution_count": 355,
   "id": "dbb5e96d",
   "metadata": {},
   "outputs": [],
   "source": [
    "# Fazendo o fit com os dados\n",
    "ohe_MSZoning = ohe_MSZoning.fit(treino[['MSZoning']])"
   ]
  },
  {
   "cell_type": "code",
   "execution_count": 356,
   "id": "7683d227",
   "metadata": {},
   "outputs": [
    {
     "data": {
      "text/plain": [
       "array([[0., 0., 0., 1., 0.],\n",
       "       [0., 0., 0., 1., 0.],\n",
       "       [0., 0., 0., 1., 0.],\n",
       "       ...,\n",
       "       [0., 0., 0., 1., 0.],\n",
       "       [0., 0., 0., 1., 0.],\n",
       "       [0., 0., 0., 1., 0.]])"
      ]
     },
     "execution_count": 356,
     "metadata": {},
     "output_type": "execute_result"
    }
   ],
   "source": [
    "# Transformando os dados\n",
    "ohe_MSZoning.transform(treino[['MSZoning']]).toarray()"
   ]
  },
  {
   "cell_type": "code",
   "execution_count": 357,
   "id": "fb6c0645",
   "metadata": {},
   "outputs": [
    {
     "data": {
      "text/html": [
       "<div>\n",
       "<style scoped>\n",
       "    .dataframe tbody tr th:only-of-type {\n",
       "        vertical-align: middle;\n",
       "    }\n",
       "\n",
       "    .dataframe tbody tr th {\n",
       "        vertical-align: top;\n",
       "    }\n",
       "\n",
       "    .dataframe thead th {\n",
       "        text-align: right;\n",
       "    }\n",
       "</style>\n",
       "<table border=\"1\" class=\"dataframe\">\n",
       "  <thead>\n",
       "    <tr style=\"text-align: right;\">\n",
       "      <th></th>\n",
       "      <th>MSZoning_C (all)</th>\n",
       "      <th>MSZoning_FV</th>\n",
       "      <th>MSZoning_RH</th>\n",
       "      <th>MSZoning_RL</th>\n",
       "      <th>MSZoning_RM</th>\n",
       "    </tr>\n",
       "  </thead>\n",
       "  <tbody>\n",
       "    <tr>\n",
       "      <th>0</th>\n",
       "      <td>0.0</td>\n",
       "      <td>0.0</td>\n",
       "      <td>0.0</td>\n",
       "      <td>1.0</td>\n",
       "      <td>0.0</td>\n",
       "    </tr>\n",
       "    <tr>\n",
       "      <th>1</th>\n",
       "      <td>0.0</td>\n",
       "      <td>0.0</td>\n",
       "      <td>0.0</td>\n",
       "      <td>1.0</td>\n",
       "      <td>0.0</td>\n",
       "    </tr>\n",
       "    <tr>\n",
       "      <th>2</th>\n",
       "      <td>0.0</td>\n",
       "      <td>0.0</td>\n",
       "      <td>0.0</td>\n",
       "      <td>1.0</td>\n",
       "      <td>0.0</td>\n",
       "    </tr>\n",
       "  </tbody>\n",
       "</table>\n",
       "</div>"
      ],
      "text/plain": [
       "   MSZoning_C (all)  MSZoning_FV  MSZoning_RH  MSZoning_RL  MSZoning_RM\n",
       "0               0.0          0.0          0.0          1.0          0.0\n",
       "1               0.0          0.0          0.0          1.0          0.0\n",
       "2               0.0          0.0          0.0          1.0          0.0"
      ]
     },
     "execution_count": 357,
     "metadata": {},
     "output_type": "execute_result"
    }
   ],
   "source": [
    "# Podemos transformar isso em um DataFrame do pandas\n",
    "ohe_MSZoning_df = pd.DataFrame(ohe_MSZoning.transform(treino[['MSZoning']]).toarray(),\n",
    "                              columns=ohe_MSZoning.get_feature_names_out())\n",
    "ohe_MSZoning_df.head(3)"
   ]
  },
  {
   "cell_type": "code",
   "execution_count": 358,
   "id": "db4a2095",
   "metadata": {},
   "outputs": [],
   "source": [
    "# Unindo essa coluna com a base\n",
    "treino = pd.concat([treino,ohe_MSZoning_df],axis=1)"
   ]
  },
  {
   "cell_type": "code",
   "execution_count": 359,
   "id": "9400b1b9",
   "metadata": {},
   "outputs": [
    {
     "data": {
      "text/html": [
       "<div>\n",
       "<style scoped>\n",
       "    .dataframe tbody tr th:only-of-type {\n",
       "        vertical-align: middle;\n",
       "    }\n",
       "\n",
       "    .dataframe tbody tr th {\n",
       "        vertical-align: top;\n",
       "    }\n",
       "\n",
       "    .dataframe thead th {\n",
       "        text-align: right;\n",
       "    }\n",
       "</style>\n",
       "<table border=\"1\" class=\"dataframe\">\n",
       "  <thead>\n",
       "    <tr style=\"text-align: right;\">\n",
       "      <th></th>\n",
       "      <th>Id</th>\n",
       "      <th>MSSubClass</th>\n",
       "      <th>MSZoning</th>\n",
       "      <th>LotFrontage</th>\n",
       "      <th>LotArea</th>\n",
       "      <th>Street</th>\n",
       "      <th>Alley</th>\n",
       "      <th>LotShape</th>\n",
       "      <th>LandContour</th>\n",
       "      <th>LotConfig</th>\n",
       "      <th>...</th>\n",
       "      <th>MoSold</th>\n",
       "      <th>YrSold</th>\n",
       "      <th>SaleType</th>\n",
       "      <th>SaleCondition</th>\n",
       "      <th>SalePrice</th>\n",
       "      <th>MSZoning_C (all)</th>\n",
       "      <th>MSZoning_FV</th>\n",
       "      <th>MSZoning_RH</th>\n",
       "      <th>MSZoning_RL</th>\n",
       "      <th>MSZoning_RM</th>\n",
       "    </tr>\n",
       "  </thead>\n",
       "  <tbody>\n",
       "    <tr>\n",
       "      <th>0</th>\n",
       "      <td>1</td>\n",
       "      <td>60</td>\n",
       "      <td>RL</td>\n",
       "      <td>65.000000</td>\n",
       "      <td>8450</td>\n",
       "      <td>Pave</td>\n",
       "      <td>-1</td>\n",
       "      <td>Reg</td>\n",
       "      <td>Lvl</td>\n",
       "      <td>Inside</td>\n",
       "      <td>...</td>\n",
       "      <td>2</td>\n",
       "      <td>2008</td>\n",
       "      <td>WD</td>\n",
       "      <td>Normal</td>\n",
       "      <td>208500</td>\n",
       "      <td>0.0</td>\n",
       "      <td>0.0</td>\n",
       "      <td>0.0</td>\n",
       "      <td>1.0</td>\n",
       "      <td>0.0</td>\n",
       "    </tr>\n",
       "    <tr>\n",
       "      <th>1</th>\n",
       "      <td>2</td>\n",
       "      <td>20</td>\n",
       "      <td>RL</td>\n",
       "      <td>80.000000</td>\n",
       "      <td>9600</td>\n",
       "      <td>Pave</td>\n",
       "      <td>-1</td>\n",
       "      <td>Reg</td>\n",
       "      <td>Lvl</td>\n",
       "      <td>FR2</td>\n",
       "      <td>...</td>\n",
       "      <td>5</td>\n",
       "      <td>2007</td>\n",
       "      <td>WD</td>\n",
       "      <td>Normal</td>\n",
       "      <td>181500</td>\n",
       "      <td>0.0</td>\n",
       "      <td>0.0</td>\n",
       "      <td>0.0</td>\n",
       "      <td>1.0</td>\n",
       "      <td>0.0</td>\n",
       "    </tr>\n",
       "    <tr>\n",
       "      <th>2</th>\n",
       "      <td>3</td>\n",
       "      <td>60</td>\n",
       "      <td>RL</td>\n",
       "      <td>68.000000</td>\n",
       "      <td>11250</td>\n",
       "      <td>Pave</td>\n",
       "      <td>-1</td>\n",
       "      <td>IR1</td>\n",
       "      <td>Lvl</td>\n",
       "      <td>Inside</td>\n",
       "      <td>...</td>\n",
       "      <td>9</td>\n",
       "      <td>2008</td>\n",
       "      <td>WD</td>\n",
       "      <td>Normal</td>\n",
       "      <td>223500</td>\n",
       "      <td>0.0</td>\n",
       "      <td>0.0</td>\n",
       "      <td>0.0</td>\n",
       "      <td>1.0</td>\n",
       "      <td>0.0</td>\n",
       "    </tr>\n",
       "    <tr>\n",
       "      <th>3</th>\n",
       "      <td>4</td>\n",
       "      <td>70</td>\n",
       "      <td>RL</td>\n",
       "      <td>60.000000</td>\n",
       "      <td>9550</td>\n",
       "      <td>Pave</td>\n",
       "      <td>-1</td>\n",
       "      <td>IR1</td>\n",
       "      <td>Lvl</td>\n",
       "      <td>Corner</td>\n",
       "      <td>...</td>\n",
       "      <td>2</td>\n",
       "      <td>2006</td>\n",
       "      <td>WD</td>\n",
       "      <td>Abnorml</td>\n",
       "      <td>140000</td>\n",
       "      <td>0.0</td>\n",
       "      <td>0.0</td>\n",
       "      <td>0.0</td>\n",
       "      <td>1.0</td>\n",
       "      <td>0.0</td>\n",
       "    </tr>\n",
       "    <tr>\n",
       "      <th>4</th>\n",
       "      <td>5</td>\n",
       "      <td>60</td>\n",
       "      <td>RL</td>\n",
       "      <td>84.000000</td>\n",
       "      <td>14260</td>\n",
       "      <td>Pave</td>\n",
       "      <td>-1</td>\n",
       "      <td>IR1</td>\n",
       "      <td>Lvl</td>\n",
       "      <td>FR2</td>\n",
       "      <td>...</td>\n",
       "      <td>12</td>\n",
       "      <td>2008</td>\n",
       "      <td>WD</td>\n",
       "      <td>Normal</td>\n",
       "      <td>250000</td>\n",
       "      <td>0.0</td>\n",
       "      <td>0.0</td>\n",
       "      <td>0.0</td>\n",
       "      <td>1.0</td>\n",
       "      <td>0.0</td>\n",
       "    </tr>\n",
       "    <tr>\n",
       "      <th>5</th>\n",
       "      <td>6</td>\n",
       "      <td>50</td>\n",
       "      <td>RL</td>\n",
       "      <td>85.000000</td>\n",
       "      <td>14115</td>\n",
       "      <td>Pave</td>\n",
       "      <td>-1</td>\n",
       "      <td>IR1</td>\n",
       "      <td>Lvl</td>\n",
       "      <td>Inside</td>\n",
       "      <td>...</td>\n",
       "      <td>10</td>\n",
       "      <td>2009</td>\n",
       "      <td>WD</td>\n",
       "      <td>Normal</td>\n",
       "      <td>143000</td>\n",
       "      <td>0.0</td>\n",
       "      <td>0.0</td>\n",
       "      <td>0.0</td>\n",
       "      <td>1.0</td>\n",
       "      <td>0.0</td>\n",
       "    </tr>\n",
       "    <tr>\n",
       "      <th>6</th>\n",
       "      <td>7</td>\n",
       "      <td>20</td>\n",
       "      <td>RL</td>\n",
       "      <td>75.000000</td>\n",
       "      <td>10084</td>\n",
       "      <td>Pave</td>\n",
       "      <td>-1</td>\n",
       "      <td>Reg</td>\n",
       "      <td>Lvl</td>\n",
       "      <td>Inside</td>\n",
       "      <td>...</td>\n",
       "      <td>8</td>\n",
       "      <td>2007</td>\n",
       "      <td>WD</td>\n",
       "      <td>Normal</td>\n",
       "      <td>307000</td>\n",
       "      <td>0.0</td>\n",
       "      <td>0.0</td>\n",
       "      <td>0.0</td>\n",
       "      <td>1.0</td>\n",
       "      <td>0.0</td>\n",
       "    </tr>\n",
       "    <tr>\n",
       "      <th>7</th>\n",
       "      <td>8</td>\n",
       "      <td>60</td>\n",
       "      <td>RL</td>\n",
       "      <td>84.039801</td>\n",
       "      <td>10382</td>\n",
       "      <td>Pave</td>\n",
       "      <td>-1</td>\n",
       "      <td>IR1</td>\n",
       "      <td>Lvl</td>\n",
       "      <td>Corner</td>\n",
       "      <td>...</td>\n",
       "      <td>11</td>\n",
       "      <td>2009</td>\n",
       "      <td>WD</td>\n",
       "      <td>Normal</td>\n",
       "      <td>200000</td>\n",
       "      <td>0.0</td>\n",
       "      <td>0.0</td>\n",
       "      <td>0.0</td>\n",
       "      <td>1.0</td>\n",
       "      <td>0.0</td>\n",
       "    </tr>\n",
       "    <tr>\n",
       "      <th>8</th>\n",
       "      <td>9</td>\n",
       "      <td>50</td>\n",
       "      <td>RM</td>\n",
       "      <td>51.000000</td>\n",
       "      <td>6120</td>\n",
       "      <td>Pave</td>\n",
       "      <td>-1</td>\n",
       "      <td>Reg</td>\n",
       "      <td>Lvl</td>\n",
       "      <td>Inside</td>\n",
       "      <td>...</td>\n",
       "      <td>4</td>\n",
       "      <td>2008</td>\n",
       "      <td>WD</td>\n",
       "      <td>Abnorml</td>\n",
       "      <td>129900</td>\n",
       "      <td>0.0</td>\n",
       "      <td>0.0</td>\n",
       "      <td>0.0</td>\n",
       "      <td>0.0</td>\n",
       "      <td>1.0</td>\n",
       "    </tr>\n",
       "    <tr>\n",
       "      <th>9</th>\n",
       "      <td>10</td>\n",
       "      <td>190</td>\n",
       "      <td>RL</td>\n",
       "      <td>50.000000</td>\n",
       "      <td>7420</td>\n",
       "      <td>Pave</td>\n",
       "      <td>-1</td>\n",
       "      <td>Reg</td>\n",
       "      <td>Lvl</td>\n",
       "      <td>Corner</td>\n",
       "      <td>...</td>\n",
       "      <td>1</td>\n",
       "      <td>2008</td>\n",
       "      <td>WD</td>\n",
       "      <td>Normal</td>\n",
       "      <td>118000</td>\n",
       "      <td>0.0</td>\n",
       "      <td>0.0</td>\n",
       "      <td>0.0</td>\n",
       "      <td>1.0</td>\n",
       "      <td>0.0</td>\n",
       "    </tr>\n",
       "  </tbody>\n",
       "</table>\n",
       "<p>10 rows × 85 columns</p>\n",
       "</div>"
      ],
      "text/plain": [
       "   Id  MSSubClass MSZoning  LotFrontage  LotArea Street Alley LotShape  \\\n",
       "0   1          60       RL    65.000000     8450   Pave    -1      Reg   \n",
       "1   2          20       RL    80.000000     9600   Pave    -1      Reg   \n",
       "2   3          60       RL    68.000000    11250   Pave    -1      IR1   \n",
       "3   4          70       RL    60.000000     9550   Pave    -1      IR1   \n",
       "4   5          60       RL    84.000000    14260   Pave    -1      IR1   \n",
       "5   6          50       RL    85.000000    14115   Pave    -1      IR1   \n",
       "6   7          20       RL    75.000000    10084   Pave    -1      Reg   \n",
       "7   8          60       RL    84.039801    10382   Pave    -1      IR1   \n",
       "8   9          50       RM    51.000000     6120   Pave    -1      Reg   \n",
       "9  10         190       RL    50.000000     7420   Pave    -1      Reg   \n",
       "\n",
       "  LandContour LotConfig  ... MoSold YrSold SaleType SaleCondition SalePrice  \\\n",
       "0         Lvl    Inside  ...      2   2008       WD        Normal    208500   \n",
       "1         Lvl       FR2  ...      5   2007       WD        Normal    181500   \n",
       "2         Lvl    Inside  ...      9   2008       WD        Normal    223500   \n",
       "3         Lvl    Corner  ...      2   2006       WD       Abnorml    140000   \n",
       "4         Lvl       FR2  ...     12   2008       WD        Normal    250000   \n",
       "5         Lvl    Inside  ...     10   2009       WD        Normal    143000   \n",
       "6         Lvl    Inside  ...      8   2007       WD        Normal    307000   \n",
       "7         Lvl    Corner  ...     11   2009       WD        Normal    200000   \n",
       "8         Lvl    Inside  ...      4   2008       WD       Abnorml    129900   \n",
       "9         Lvl    Corner  ...      1   2008       WD        Normal    118000   \n",
       "\n",
       "  MSZoning_C (all)  MSZoning_FV  MSZoning_RH  MSZoning_RL  MSZoning_RM  \n",
       "0              0.0          0.0          0.0          1.0          0.0  \n",
       "1              0.0          0.0          0.0          1.0          0.0  \n",
       "2              0.0          0.0          0.0          1.0          0.0  \n",
       "3              0.0          0.0          0.0          1.0          0.0  \n",
       "4              0.0          0.0          0.0          1.0          0.0  \n",
       "5              0.0          0.0          0.0          1.0          0.0  \n",
       "6              0.0          0.0          0.0          1.0          0.0  \n",
       "7              0.0          0.0          0.0          1.0          0.0  \n",
       "8              0.0          0.0          0.0          0.0          1.0  \n",
       "9              0.0          0.0          0.0          1.0          0.0  \n",
       "\n",
       "[10 rows x 85 columns]"
      ]
     },
     "execution_count": 359,
     "metadata": {},
     "output_type": "execute_result"
    }
   ],
   "source": [
    "# Verificando o resultado\n",
    "treino.head(10)"
   ]
  },
  {
   "cell_type": "code",
   "execution_count": 360,
   "id": "1693b47b",
   "metadata": {},
   "outputs": [],
   "source": [
    "# Eliminando a coluna \"MSZoning\"\n",
    "treino = treino.drop('MSZoning',axis=1)"
   ]
  },
  {
   "cell_type": "markdown",
   "id": "a1a0a924",
   "metadata": {},
   "source": [
    "- Agora utilizando o mesmo encoder para a **<font color='blue'>base de teste</font>**"
   ]
  },
  {
   "cell_type": "code",
   "execution_count": 361,
   "id": "50387a16",
   "metadata": {},
   "outputs": [
    {
     "data": {
      "text/plain": [
       "array([[0., 0., 1., 0., 0.],\n",
       "       [0., 0., 0., 1., 0.],\n",
       "       [0., 0., 0., 1., 0.],\n",
       "       ...,\n",
       "       [0., 0., 0., 1., 0.],\n",
       "       [0., 0., 0., 1., 0.],\n",
       "       [0., 0., 0., 1., 0.]])"
      ]
     },
     "execution_count": 361,
     "metadata": {},
     "output_type": "execute_result"
    }
   ],
   "source": [
    "# Fazendo a transformação\n",
    "ohe_MSZoning.transform(teste[['MSZoning']]).toarray()"
   ]
  },
  {
   "cell_type": "code",
   "execution_count": 362,
   "id": "cacd4fa6",
   "metadata": {},
   "outputs": [
    {
     "data": {
      "text/html": [
       "<div>\n",
       "<style scoped>\n",
       "    .dataframe tbody tr th:only-of-type {\n",
       "        vertical-align: middle;\n",
       "    }\n",
       "\n",
       "    .dataframe tbody tr th {\n",
       "        vertical-align: top;\n",
       "    }\n",
       "\n",
       "    .dataframe thead th {\n",
       "        text-align: right;\n",
       "    }\n",
       "</style>\n",
       "<table border=\"1\" class=\"dataframe\">\n",
       "  <thead>\n",
       "    <tr style=\"text-align: right;\">\n",
       "      <th></th>\n",
       "      <th>MSZoning_C (all)</th>\n",
       "      <th>MSZoning_FV</th>\n",
       "      <th>MSZoning_RH</th>\n",
       "      <th>MSZoning_RL</th>\n",
       "      <th>MSZoning_RM</th>\n",
       "    </tr>\n",
       "  </thead>\n",
       "  <tbody>\n",
       "    <tr>\n",
       "      <th>0</th>\n",
       "      <td>0.0</td>\n",
       "      <td>0.0</td>\n",
       "      <td>1.0</td>\n",
       "      <td>0.0</td>\n",
       "      <td>0.0</td>\n",
       "    </tr>\n",
       "    <tr>\n",
       "      <th>1</th>\n",
       "      <td>0.0</td>\n",
       "      <td>0.0</td>\n",
       "      <td>0.0</td>\n",
       "      <td>1.0</td>\n",
       "      <td>0.0</td>\n",
       "    </tr>\n",
       "    <tr>\n",
       "      <th>2</th>\n",
       "      <td>0.0</td>\n",
       "      <td>0.0</td>\n",
       "      <td>0.0</td>\n",
       "      <td>1.0</td>\n",
       "      <td>0.0</td>\n",
       "    </tr>\n",
       "  </tbody>\n",
       "</table>\n",
       "</div>"
      ],
      "text/plain": [
       "   MSZoning_C (all)  MSZoning_FV  MSZoning_RH  MSZoning_RL  MSZoning_RM\n",
       "0               0.0          0.0          1.0          0.0          0.0\n",
       "1               0.0          0.0          0.0          1.0          0.0\n",
       "2               0.0          0.0          0.0          1.0          0.0"
      ]
     },
     "execution_count": 362,
     "metadata": {},
     "output_type": "execute_result"
    }
   ],
   "source": [
    "# Transformando em um DataFrame (podemos sobrescrever essa variável)\n",
    "ohe_MSZoning_df = pd.DataFrame(ohe_MSZoning.transform(teste[['MSZoning']]).toarray(),\n",
    "                              columns=ohe_MSZoning.get_feature_names_out())\n",
    "ohe_MSZoning_df.head(3)"
   ]
  },
  {
   "cell_type": "code",
   "execution_count": 363,
   "id": "3bd4bff9",
   "metadata": {},
   "outputs": [],
   "source": [
    "# Unindo essa coluna com a base de teste\n",
    "teste = pd.concat([teste,ohe_MSZoning_df],axis=1)"
   ]
  },
  {
   "cell_type": "code",
   "execution_count": 364,
   "id": "78fe2857",
   "metadata": {},
   "outputs": [
    {
     "data": {
      "text/html": [
       "<div>\n",
       "<style scoped>\n",
       "    .dataframe tbody tr th:only-of-type {\n",
       "        vertical-align: middle;\n",
       "    }\n",
       "\n",
       "    .dataframe tbody tr th {\n",
       "        vertical-align: top;\n",
       "    }\n",
       "\n",
       "    .dataframe thead th {\n",
       "        text-align: right;\n",
       "    }\n",
       "</style>\n",
       "<table border=\"1\" class=\"dataframe\">\n",
       "  <thead>\n",
       "    <tr style=\"text-align: right;\">\n",
       "      <th></th>\n",
       "      <th>Id</th>\n",
       "      <th>MSSubClass</th>\n",
       "      <th>MSZoning</th>\n",
       "      <th>LotFrontage</th>\n",
       "      <th>LotArea</th>\n",
       "      <th>Street</th>\n",
       "      <th>Alley</th>\n",
       "      <th>LotShape</th>\n",
       "      <th>LandContour</th>\n",
       "      <th>LotConfig</th>\n",
       "      <th>...</th>\n",
       "      <th>MiscVal</th>\n",
       "      <th>MoSold</th>\n",
       "      <th>YrSold</th>\n",
       "      <th>SaleType</th>\n",
       "      <th>SaleCondition</th>\n",
       "      <th>MSZoning_C (all)</th>\n",
       "      <th>MSZoning_FV</th>\n",
       "      <th>MSZoning_RH</th>\n",
       "      <th>MSZoning_RL</th>\n",
       "      <th>MSZoning_RM</th>\n",
       "    </tr>\n",
       "  </thead>\n",
       "  <tbody>\n",
       "    <tr>\n",
       "      <th>0</th>\n",
       "      <td>1461</td>\n",
       "      <td>20</td>\n",
       "      <td>RH</td>\n",
       "      <td>80.0</td>\n",
       "      <td>11622</td>\n",
       "      <td>Pave</td>\n",
       "      <td>-1</td>\n",
       "      <td>Reg</td>\n",
       "      <td>Lvl</td>\n",
       "      <td>Inside</td>\n",
       "      <td>...</td>\n",
       "      <td>0</td>\n",
       "      <td>6</td>\n",
       "      <td>2010</td>\n",
       "      <td>WD</td>\n",
       "      <td>Normal</td>\n",
       "      <td>0.0</td>\n",
       "      <td>0.0</td>\n",
       "      <td>1.0</td>\n",
       "      <td>0.0</td>\n",
       "      <td>0.0</td>\n",
       "    </tr>\n",
       "    <tr>\n",
       "      <th>1</th>\n",
       "      <td>1462</td>\n",
       "      <td>20</td>\n",
       "      <td>RL</td>\n",
       "      <td>81.0</td>\n",
       "      <td>14267</td>\n",
       "      <td>Pave</td>\n",
       "      <td>-1</td>\n",
       "      <td>IR1</td>\n",
       "      <td>Lvl</td>\n",
       "      <td>Corner</td>\n",
       "      <td>...</td>\n",
       "      <td>12500</td>\n",
       "      <td>6</td>\n",
       "      <td>2010</td>\n",
       "      <td>WD</td>\n",
       "      <td>Normal</td>\n",
       "      <td>0.0</td>\n",
       "      <td>0.0</td>\n",
       "      <td>0.0</td>\n",
       "      <td>1.0</td>\n",
       "      <td>0.0</td>\n",
       "    </tr>\n",
       "    <tr>\n",
       "      <th>2</th>\n",
       "      <td>1463</td>\n",
       "      <td>60</td>\n",
       "      <td>RL</td>\n",
       "      <td>74.0</td>\n",
       "      <td>13830</td>\n",
       "      <td>Pave</td>\n",
       "      <td>-1</td>\n",
       "      <td>IR1</td>\n",
       "      <td>Lvl</td>\n",
       "      <td>Inside</td>\n",
       "      <td>...</td>\n",
       "      <td>0</td>\n",
       "      <td>3</td>\n",
       "      <td>2010</td>\n",
       "      <td>WD</td>\n",
       "      <td>Normal</td>\n",
       "      <td>0.0</td>\n",
       "      <td>0.0</td>\n",
       "      <td>0.0</td>\n",
       "      <td>1.0</td>\n",
       "      <td>0.0</td>\n",
       "    </tr>\n",
       "    <tr>\n",
       "      <th>3</th>\n",
       "      <td>1464</td>\n",
       "      <td>60</td>\n",
       "      <td>RL</td>\n",
       "      <td>78.0</td>\n",
       "      <td>9978</td>\n",
       "      <td>Pave</td>\n",
       "      <td>-1</td>\n",
       "      <td>IR1</td>\n",
       "      <td>Lvl</td>\n",
       "      <td>Inside</td>\n",
       "      <td>...</td>\n",
       "      <td>0</td>\n",
       "      <td>6</td>\n",
       "      <td>2010</td>\n",
       "      <td>WD</td>\n",
       "      <td>Normal</td>\n",
       "      <td>0.0</td>\n",
       "      <td>0.0</td>\n",
       "      <td>0.0</td>\n",
       "      <td>1.0</td>\n",
       "      <td>0.0</td>\n",
       "    </tr>\n",
       "    <tr>\n",
       "      <th>4</th>\n",
       "      <td>1465</td>\n",
       "      <td>120</td>\n",
       "      <td>RL</td>\n",
       "      <td>43.0</td>\n",
       "      <td>5005</td>\n",
       "      <td>Pave</td>\n",
       "      <td>-1</td>\n",
       "      <td>IR1</td>\n",
       "      <td>HLS</td>\n",
       "      <td>Inside</td>\n",
       "      <td>...</td>\n",
       "      <td>0</td>\n",
       "      <td>1</td>\n",
       "      <td>2010</td>\n",
       "      <td>WD</td>\n",
       "      <td>Normal</td>\n",
       "      <td>0.0</td>\n",
       "      <td>0.0</td>\n",
       "      <td>0.0</td>\n",
       "      <td>1.0</td>\n",
       "      <td>0.0</td>\n",
       "    </tr>\n",
       "  </tbody>\n",
       "</table>\n",
       "<p>5 rows × 84 columns</p>\n",
       "</div>"
      ],
      "text/plain": [
       "     Id  MSSubClass MSZoning  LotFrontage  LotArea Street Alley LotShape  \\\n",
       "0  1461          20       RH         80.0    11622   Pave    -1      Reg   \n",
       "1  1462          20       RL         81.0    14267   Pave    -1      IR1   \n",
       "2  1463          60       RL         74.0    13830   Pave    -1      IR1   \n",
       "3  1464          60       RL         78.0     9978   Pave    -1      IR1   \n",
       "4  1465         120       RL         43.0     5005   Pave    -1      IR1   \n",
       "\n",
       "  LandContour LotConfig  ... MiscVal MoSold YrSold SaleType SaleCondition  \\\n",
       "0         Lvl    Inside  ...       0      6   2010       WD        Normal   \n",
       "1         Lvl    Corner  ...   12500      6   2010       WD        Normal   \n",
       "2         Lvl    Inside  ...       0      3   2010       WD        Normal   \n",
       "3         Lvl    Inside  ...       0      6   2010       WD        Normal   \n",
       "4         HLS    Inside  ...       0      1   2010       WD        Normal   \n",
       "\n",
       "  MSZoning_C (all)  MSZoning_FV  MSZoning_RH  MSZoning_RL  MSZoning_RM  \n",
       "0              0.0          0.0          1.0          0.0          0.0  \n",
       "1              0.0          0.0          0.0          1.0          0.0  \n",
       "2              0.0          0.0          0.0          1.0          0.0  \n",
       "3              0.0          0.0          0.0          1.0          0.0  \n",
       "4              0.0          0.0          0.0          1.0          0.0  \n",
       "\n",
       "[5 rows x 84 columns]"
      ]
     },
     "execution_count": 364,
     "metadata": {},
     "output_type": "execute_result"
    }
   ],
   "source": [
    "# Verificando o resultado\n",
    "teste.head(5)"
   ]
  },
  {
   "cell_type": "code",
   "execution_count": 365,
   "id": "987e1a77",
   "metadata": {},
   "outputs": [],
   "source": [
    "# Eliminando a coluna \"MSZoning\"\n",
    "teste = teste.drop('MSZoning',axis=1)"
   ]
  },
  {
   "cell_type": "markdown",
   "id": "6ef891b2",
   "metadata": {},
   "source": [
    "<p style='text-align: right;'><a href=\"#colunas\">Voltar</a></p>"
   ]
  },
  {
   "cell_type": "markdown",
   "id": "e55265f6",
   "metadata": {},
   "source": [
    "<a id=\"GarageQual\"></a>\n",
    "- <font color=\"blue\">**Analisando as informações sobre garagem, começando pela \"GarageQual\"**</font>\n",
    "    - Ex: Excellent\n",
    "    - Gd: Good\n",
    "    - TA: Typical/Average\n",
    "    - Fa: Fair\n",
    "    - Po: Poor\n",
    "    - NA: No Garage -> lembrando que já substituimos esse valor por -1"
   ]
  },
  {
   "cell_type": "code",
   "execution_count": 366,
   "id": "d3e5aa8d",
   "metadata": {},
   "outputs": [
    {
     "data": {
      "text/plain": [
       "TA    1311\n",
       "-1      81\n",
       "Fa      48\n",
       "Gd      14\n",
       "Ex       3\n",
       "Po       3\n",
       "Name: GarageQual, dtype: int64"
      ]
     },
     "execution_count": 366,
     "metadata": {},
     "output_type": "execute_result"
    }
   ],
   "source": [
    "# Verificando os valores nessa coluna\n",
    "treino.GarageQual.value_counts()"
   ]
  },
  {
   "cell_type": "code",
   "execution_count": 367,
   "id": "86a36eab",
   "metadata": {},
   "outputs": [
    {
     "data": {
      "image/png": "[encoded data removed]",
      "text/plain": [
       "<Figure size 1500x500 with 2 Axes>"
      ]
     },
     "metadata": {},
     "output_type": "display_data"
    }
   ],
   "source": [
    "# Visualizando graficamente\n",
    "coluna = 'GarageQual'\n",
    "\n",
    "fig, ax = plt.subplots(ncols=2,figsize=(15,5))\n",
    "\n",
    "sns.boxplot(x=treino[coluna],y=treino.SalePrice,ax=ax[0])\n",
    "sns.kdeplot(treino.SalePrice,hue=treino[coluna],ax=ax[1])\n",
    "\n",
    "plt.show()"
   ]
  },
  {
   "cell_type": "markdown",
   "id": "735b489f",
   "metadata": {},
   "source": [
    "- **Ao ir no arquivo data_description, percebemos que existem várias colunas de garagem (também percebemos isso na etapa de Data Cleaning), então podemos visualizar essas informações**"
   ]
  },
  {
   "cell_type": "code",
   "execution_count": 368,
   "id": "a55487a9",
   "metadata": {},
   "outputs": [
    {
     "data": {
      "text/plain": [
       "Index(['GarageType', 'GarageYrBlt', 'GarageFinish', 'GarageCars', 'GarageArea',\n",
       "       'GarageQual', 'GarageCond'],\n",
       "      dtype='object')"
      ]
     },
     "execution_count": 368,
     "metadata": {},
     "output_type": "execute_result"
    }
   ],
   "source": [
    "# Verificando as colunas que possuem garagem no nome\n",
    "cols_garagem = treino.columns[treino.columns.str.contains('Garage')]\n",
    "cols_garagem"
   ]
  },
  {
   "cell_type": "code",
   "execution_count": 369,
   "id": "8a2d0d09",
   "metadata": {},
   "outputs": [
    {
     "data": {
      "text/html": [
       "<div>\n",
       "<style scoped>\n",
       "    .dataframe tbody tr th:only-of-type {\n",
       "        vertical-align: middle;\n",
       "    }\n",
       "\n",
       "    .dataframe tbody tr th {\n",
       "        vertical-align: top;\n",
       "    }\n",
       "\n",
       "    .dataframe thead th {\n",
       "        text-align: right;\n",
       "    }\n",
       "</style>\n",
       "<table border=\"1\" class=\"dataframe\">\n",
       "  <thead>\n",
       "    <tr style=\"text-align: right;\">\n",
       "      <th></th>\n",
       "      <th>GarageType</th>\n",
       "      <th>GarageYrBlt</th>\n",
       "      <th>GarageFinish</th>\n",
       "      <th>GarageCars</th>\n",
       "      <th>GarageArea</th>\n",
       "      <th>GarageQual</th>\n",
       "      <th>GarageCond</th>\n",
       "    </tr>\n",
       "  </thead>\n",
       "  <tbody>\n",
       "    <tr>\n",
       "      <th>0</th>\n",
       "      <td>Attchd</td>\n",
       "      <td>2003.0</td>\n",
       "      <td>RFn</td>\n",
       "      <td>2</td>\n",
       "      <td>548</td>\n",
       "      <td>TA</td>\n",
       "      <td>TA</td>\n",
       "    </tr>\n",
       "    <tr>\n",
       "      <th>1</th>\n",
       "      <td>Attchd</td>\n",
       "      <td>1976.0</td>\n",
       "      <td>RFn</td>\n",
       "      <td>2</td>\n",
       "      <td>460</td>\n",
       "      <td>TA</td>\n",
       "      <td>TA</td>\n",
       "    </tr>\n",
       "    <tr>\n",
       "      <th>2</th>\n",
       "      <td>Attchd</td>\n",
       "      <td>2001.0</td>\n",
       "      <td>RFn</td>\n",
       "      <td>2</td>\n",
       "      <td>608</td>\n",
       "      <td>TA</td>\n",
       "      <td>TA</td>\n",
       "    </tr>\n",
       "    <tr>\n",
       "      <th>3</th>\n",
       "      <td>Detchd</td>\n",
       "      <td>1998.0</td>\n",
       "      <td>Unf</td>\n",
       "      <td>3</td>\n",
       "      <td>642</td>\n",
       "      <td>TA</td>\n",
       "      <td>TA</td>\n",
       "    </tr>\n",
       "    <tr>\n",
       "      <th>4</th>\n",
       "      <td>Attchd</td>\n",
       "      <td>2000.0</td>\n",
       "      <td>RFn</td>\n",
       "      <td>3</td>\n",
       "      <td>836</td>\n",
       "      <td>TA</td>\n",
       "      <td>TA</td>\n",
       "    </tr>\n",
       "  </tbody>\n",
       "</table>\n",
       "</div>"
      ],
      "text/plain": [
       "  GarageType  GarageYrBlt GarageFinish  GarageCars  GarageArea GarageQual  \\\n",
       "0     Attchd       2003.0          RFn           2         548         TA   \n",
       "1     Attchd       1976.0          RFn           2         460         TA   \n",
       "2     Attchd       2001.0          RFn           2         608         TA   \n",
       "3     Detchd       1998.0          Unf           3         642         TA   \n",
       "4     Attchd       2000.0          RFn           3         836         TA   \n",
       "\n",
       "  GarageCond  \n",
       "0         TA  \n",
       "1         TA  \n",
       "2         TA  \n",
       "3         TA  \n",
       "4         TA  "
      ]
     },
     "execution_count": 369,
     "metadata": {},
     "output_type": "execute_result"
    }
   ],
   "source": [
    "# Visualizando os valores nessa base\n",
    "treino[cols_garagem].head(5)"
   ]
  },
  {
   "cell_type": "code",
   "execution_count": 370,
   "id": "027756c3",
   "metadata": {},
   "outputs": [
    {
     "data": {
      "text/plain": [
       "GarageQual  GarageCond\n",
       "TA          TA            1291\n",
       "-1          -1              81\n",
       "Fa          TA              24\n",
       "            Fa              20\n",
       "TA          Fa              15\n",
       "Gd          TA              10\n",
       "TA          Gd               5\n",
       "Fa          Po               4\n",
       "Gd          Gd               4\n",
       "Po          Po               3\n",
       "Ex          Ex               2\n",
       "            TA               1\n",
       "dtype: int64"
      ]
     },
     "execution_count": 370,
     "metadata": {},
     "output_type": "execute_result"
    }
   ],
   "source": [
    "# Fazendo o value_counts das colunas de Qualidade e Condição\n",
    "treino[['GarageQual','GarageCond']].value_counts()"
   ]
  },
  {
   "cell_type": "code",
   "execution_count": 371,
   "id": "854f30b6",
   "metadata": {},
   "outputs": [
    {
     "data": {
      "text/plain": [
       "0.9595890410958904"
      ]
     },
     "execution_count": 371,
     "metadata": {},
     "output_type": "execute_result"
    }
   ],
   "source": [
    "# Contando em quantas colunas temos GarageQual == GarageCond\n",
    "treino[treino.GarageQual == treino.GarageCond].shape[0]/treino.shape[0]"
   ]
  },
  {
   "cell_type": "markdown",
   "id": "4cc56a9e",
   "metadata": {},
   "source": [
    "- **Podemos apagar a coluna \"GarageCond\" pois a informação nessa coluna diz basicamente a mesma coisa que a coluna \"GarageQual\"** "
   ]
  },
  {
   "cell_type": "code",
   "execution_count": 372,
   "id": "441a3b8a",
   "metadata": {},
   "outputs": [],
   "source": [
    "# Apagando a coluna GarageCond\n",
    "treino = treino.drop('GarageCond',axis=1)"
   ]
  },
  {
   "cell_type": "markdown",
   "id": "2a0b5557",
   "metadata": {},
   "source": [
    "- **Da mesma forma, também podemos analisar a relação entre \"GarageCars\" e \"GarageArea\"**"
   ]
  },
  {
   "cell_type": "code",
   "execution_count": 373,
   "id": "f38bd74f",
   "metadata": {},
   "outputs": [
    {
     "data": {
      "text/html": [
       "<div>\n",
       "<style scoped>\n",
       "    .dataframe tbody tr th:only-of-type {\n",
       "        vertical-align: middle;\n",
       "    }\n",
       "\n",
       "    .dataframe tbody tr th {\n",
       "        vertical-align: top;\n",
       "    }\n",
       "\n",
       "    .dataframe thead th {\n",
       "        text-align: right;\n",
       "    }\n",
       "</style>\n",
       "<table border=\"1\" class=\"dataframe\">\n",
       "  <thead>\n",
       "    <tr style=\"text-align: right;\">\n",
       "      <th></th>\n",
       "      <th>GarageCars</th>\n",
       "      <th>GarageArea</th>\n",
       "      <th>SalePrice</th>\n",
       "    </tr>\n",
       "  </thead>\n",
       "  <tbody>\n",
       "    <tr>\n",
       "      <th>GarageCars</th>\n",
       "      <td>1.000000</td>\n",
       "      <td>0.882475</td>\n",
       "      <td>0.640409</td>\n",
       "    </tr>\n",
       "    <tr>\n",
       "      <th>GarageArea</th>\n",
       "      <td>0.882475</td>\n",
       "      <td>1.000000</td>\n",
       "      <td>0.623431</td>\n",
       "    </tr>\n",
       "    <tr>\n",
       "      <th>SalePrice</th>\n",
       "      <td>0.640409</td>\n",
       "      <td>0.623431</td>\n",
       "      <td>1.000000</td>\n",
       "    </tr>\n",
       "  </tbody>\n",
       "</table>\n",
       "</div>"
      ],
      "text/plain": [
       "            GarageCars  GarageArea  SalePrice\n",
       "GarageCars    1.000000    0.882475   0.640409\n",
       "GarageArea    0.882475    1.000000   0.623431\n",
       "SalePrice     0.640409    0.623431   1.000000"
      ]
     },
     "execution_count": 373,
     "metadata": {},
     "output_type": "execute_result"
    }
   ],
   "source": [
    "# Analisando a correlação entre as duas colunas e o preço\n",
    "treino[['GarageCars','GarageArea','SalePrice']].corr()"
   ]
  },
  {
   "cell_type": "code",
   "execution_count": 374,
   "id": "97475b06",
   "metadata": {},
   "outputs": [],
   "source": [
    "# Eliminando a coluna GarageArea\n",
    "treino = treino.drop('GarageArea',axis=1)"
   ]
  },
  {
   "cell_type": "code",
   "execution_count": 375,
   "id": "25675550",
   "metadata": {},
   "outputs": [
    {
     "data": {
      "text/plain": [
       "Index(['GarageType', 'GarageYrBlt', 'GarageFinish', 'GarageCars',\n",
       "       'GarageQual'],\n",
       "      dtype='object')"
      ]
     },
     "execution_count": 375,
     "metadata": {},
     "output_type": "execute_result"
    }
   ],
   "source": [
    "# Verificando as colunas que possuem garagem no nome\n",
    "cols_garagem = treino.columns[treino.columns.str.contains('Garage')]\n",
    "cols_garagem"
   ]
  },
  {
   "cell_type": "markdown",
   "id": "3c764815",
   "metadata": {},
   "source": [
    "- **Podemos continuar tratando as colunas de garagem, mas relacionando com outras informações da base como \"YearBuilt\" e \"YearRemodAdd\"**"
   ]
  },
  {
   "cell_type": "code",
   "execution_count": 376,
   "id": "eb5e8b3c",
   "metadata": {},
   "outputs": [
    {
     "data": {
      "text/html": [
       "<div>\n",
       "<style scoped>\n",
       "    .dataframe tbody tr th:only-of-type {\n",
       "        vertical-align: middle;\n",
       "    }\n",
       "\n",
       "    .dataframe tbody tr th {\n",
       "        vertical-align: top;\n",
       "    }\n",
       "\n",
       "    .dataframe thead th {\n",
       "        text-align: right;\n",
       "    }\n",
       "</style>\n",
       "<table border=\"1\" class=\"dataframe\">\n",
       "  <thead>\n",
       "    <tr style=\"text-align: right;\">\n",
       "      <th></th>\n",
       "      <th>GarageYrBlt</th>\n",
       "      <th>YearBuilt</th>\n",
       "      <th>YearRemodAdd</th>\n",
       "      <th>SalePrice</th>\n",
       "    </tr>\n",
       "  </thead>\n",
       "  <tbody>\n",
       "    <tr>\n",
       "      <th>GarageYrBlt</th>\n",
       "      <td>1.000000</td>\n",
       "      <td>0.272009</td>\n",
       "      <td>0.146341</td>\n",
       "      <td>0.261354</td>\n",
       "    </tr>\n",
       "    <tr>\n",
       "      <th>YearBuilt</th>\n",
       "      <td>0.272009</td>\n",
       "      <td>1.000000</td>\n",
       "      <td>0.592855</td>\n",
       "      <td>0.522897</td>\n",
       "    </tr>\n",
       "    <tr>\n",
       "      <th>YearRemodAdd</th>\n",
       "      <td>0.146341</td>\n",
       "      <td>0.592855</td>\n",
       "      <td>1.000000</td>\n",
       "      <td>0.507101</td>\n",
       "    </tr>\n",
       "    <tr>\n",
       "      <th>SalePrice</th>\n",
       "      <td>0.261354</td>\n",
       "      <td>0.522897</td>\n",
       "      <td>0.507101</td>\n",
       "      <td>1.000000</td>\n",
       "    </tr>\n",
       "  </tbody>\n",
       "</table>\n",
       "</div>"
      ],
      "text/plain": [
       "              GarageYrBlt  YearBuilt  YearRemodAdd  SalePrice\n",
       "GarageYrBlt      1.000000   0.272009      0.146341   0.261354\n",
       "YearBuilt        0.272009   1.000000      0.592855   0.522897\n",
       "YearRemodAdd     0.146341   0.592855      1.000000   0.507101\n",
       "SalePrice        0.261354   0.522897      0.507101   1.000000"
      ]
     },
     "execution_count": 376,
     "metadata": {},
     "output_type": "execute_result"
    }
   ],
   "source": [
    "# Analisando a correlação entre as datas de construção\n",
    "treino[['GarageYrBlt','YearBuilt','YearRemodAdd','SalePrice']].corr()"
   ]
  },
  {
   "cell_type": "code",
   "execution_count": 377,
   "id": "13384172",
   "metadata": {},
   "outputs": [
    {
     "data": {
      "image/png": "[encoded data removed]",
      "text/plain": [
       "<Figure size 640x480 with 1 Axes>"
      ]
     },
     "metadata": {},
     "output_type": "display_data"
    }
   ],
   "source": [
    "# Visualizando graficamente a correlação entre GarageYrBlt e YearBuilt\n",
    "fig, ax = plt.subplots()\n",
    "\n",
    "ax.scatter(treino.GarageYrBlt,treino.YearBuilt)\n",
    "\n",
    "plt.show()"
   ]
  },
  {
   "cell_type": "code",
   "execution_count": 378,
   "id": "6f15fa8a",
   "metadata": {},
   "outputs": [
    {
     "data": {
      "text/html": [
       "<div>\n",
       "<style scoped>\n",
       "    .dataframe tbody tr th:only-of-type {\n",
       "        vertical-align: middle;\n",
       "    }\n",
       "\n",
       "    .dataframe tbody tr th {\n",
       "        vertical-align: top;\n",
       "    }\n",
       "\n",
       "    .dataframe thead th {\n",
       "        text-align: right;\n",
       "    }\n",
       "</style>\n",
       "<table border=\"1\" class=\"dataframe\">\n",
       "  <thead>\n",
       "    <tr style=\"text-align: right;\">\n",
       "      <th></th>\n",
       "      <th>GarageYrBlt</th>\n",
       "      <th>YearBuilt</th>\n",
       "      <th>YearRemodAdd</th>\n",
       "      <th>SalePrice</th>\n",
       "    </tr>\n",
       "  </thead>\n",
       "  <tbody>\n",
       "    <tr>\n",
       "      <th>GarageYrBlt</th>\n",
       "      <td>1.000000</td>\n",
       "      <td>0.825667</td>\n",
       "      <td>0.642277</td>\n",
       "      <td>0.486362</td>\n",
       "    </tr>\n",
       "    <tr>\n",
       "      <th>YearBuilt</th>\n",
       "      <td>0.825667</td>\n",
       "      <td>1.000000</td>\n",
       "      <td>0.618058</td>\n",
       "      <td>0.507584</td>\n",
       "    </tr>\n",
       "    <tr>\n",
       "      <th>YearRemodAdd</th>\n",
       "      <td>0.642277</td>\n",
       "      <td>0.618058</td>\n",
       "      <td>1.000000</td>\n",
       "      <td>0.505434</td>\n",
       "    </tr>\n",
       "    <tr>\n",
       "      <th>SalePrice</th>\n",
       "      <td>0.486362</td>\n",
       "      <td>0.507584</td>\n",
       "      <td>0.505434</td>\n",
       "      <td>1.000000</td>\n",
       "    </tr>\n",
       "  </tbody>\n",
       "</table>\n",
       "</div>"
      ],
      "text/plain": [
       "              GarageYrBlt  YearBuilt  YearRemodAdd  SalePrice\n",
       "GarageYrBlt      1.000000   0.825667      0.642277   0.486362\n",
       "YearBuilt        0.825667   1.000000      0.618058   0.507584\n",
       "YearRemodAdd     0.642277   0.618058      1.000000   0.505434\n",
       "SalePrice        0.486362   0.507584      0.505434   1.000000"
      ]
     },
     "execution_count": 378,
     "metadata": {},
     "output_type": "execute_result"
    }
   ],
   "source": [
    "# Retirando da base os valores onde o ano é -1 (sem garagem)\n",
    "treino.loc[treino.GarageYrBlt != -1,['GarageYrBlt','YearBuilt','YearRemodAdd','SalePrice']].corr()"
   ]
  },
  {
   "cell_type": "code",
   "execution_count": 379,
   "id": "ea3d25cd",
   "metadata": {},
   "outputs": [],
   "source": [
    "# Também podemos eliminar essa coluna de GarageYrBlt\n",
    "treino = treino.drop('GarageYrBlt',axis=1)"
   ]
  },
  {
   "cell_type": "markdown",
   "id": "532ae8c4",
   "metadata": {},
   "source": [
    "- **Por fim, podemos continuar tratando as colunas de garagem ou apenas transformar o restante das colunas de texto**\n",
    "    - Utilizando o OneHotEncoder para a coluna \"GarageType\"\n",
    "        - https://scikit-learn.org/stable/modules/generated/sklearn.preprocessing.OneHotEncoder.html\n",
    "    - E o OrdinalEncoder para as colunas \"GarageFinish\" e \"GarageQual\"\n",
    "        - https://scikit-learn.org/stable/modules/generated/sklearn.preprocessing.OrdinalEncoder.html"
   ]
  },
  {
   "cell_type": "code",
   "execution_count": 380,
   "id": "4b6e05f5",
   "metadata": {},
   "outputs": [
    {
     "data": {
      "text/plain": [
       "Attchd     870\n",
       "Detchd     387\n",
       "BuiltIn     88\n",
       "-1          81\n",
       "Basment     19\n",
       "CarPort      9\n",
       "2Types       6\n",
       "Name: GarageType, dtype: int64"
      ]
     },
     "execution_count": 380,
     "metadata": {},
     "output_type": "execute_result"
    }
   ],
   "source": [
    "# Visualizando os valores em \"GarageType\"\n",
    "treino.GarageType.value_counts()"
   ]
  },
  {
   "cell_type": "code",
   "execution_count": 381,
   "id": "9f5f9c32",
   "metadata": {},
   "outputs": [],
   "source": [
    "# Criando um encoder para GarageType\n",
    "ohe_GarageType = OneHotEncoder(handle_unknown='ignore',\n",
    "                              min_frequency=25)"
   ]
  },
  {
   "cell_type": "code",
   "execution_count": 382,
   "id": "c1eb2e63",
   "metadata": {},
   "outputs": [],
   "source": [
    "# Fazendo o fit\n",
    "ohe_GarageType = ohe_GarageType.fit(treino[['GarageType']])"
   ]
  },
  {
   "cell_type": "code",
   "execution_count": 383,
   "id": "776e0671",
   "metadata": {},
   "outputs": [
    {
     "data": {
      "text/html": [
       "<div>\n",
       "<style scoped>\n",
       "    .dataframe tbody tr th:only-of-type {\n",
       "        vertical-align: middle;\n",
       "    }\n",
       "\n",
       "    .dataframe tbody tr th {\n",
       "        vertical-align: top;\n",
       "    }\n",
       "\n",
       "    .dataframe thead th {\n",
       "        text-align: right;\n",
       "    }\n",
       "</style>\n",
       "<table border=\"1\" class=\"dataframe\">\n",
       "  <thead>\n",
       "    <tr style=\"text-align: right;\">\n",
       "      <th></th>\n",
       "      <th>GarageType_-1</th>\n",
       "      <th>GarageType_Attchd</th>\n",
       "      <th>GarageType_BuiltIn</th>\n",
       "      <th>GarageType_Detchd</th>\n",
       "      <th>GarageType_infrequent_sklearn</th>\n",
       "    </tr>\n",
       "  </thead>\n",
       "  <tbody>\n",
       "    <tr>\n",
       "      <th>0</th>\n",
       "      <td>0.0</td>\n",
       "      <td>1.0</td>\n",
       "      <td>0.0</td>\n",
       "      <td>0.0</td>\n",
       "      <td>0.0</td>\n",
       "    </tr>\n",
       "    <tr>\n",
       "      <th>1</th>\n",
       "      <td>0.0</td>\n",
       "      <td>1.0</td>\n",
       "      <td>0.0</td>\n",
       "      <td>0.0</td>\n",
       "      <td>0.0</td>\n",
       "    </tr>\n",
       "    <tr>\n",
       "      <th>2</th>\n",
       "      <td>0.0</td>\n",
       "      <td>1.0</td>\n",
       "      <td>0.0</td>\n",
       "      <td>0.0</td>\n",
       "      <td>0.0</td>\n",
       "    </tr>\n",
       "  </tbody>\n",
       "</table>\n",
       "</div>"
      ],
      "text/plain": [
       "   GarageType_-1  GarageType_Attchd  GarageType_BuiltIn  GarageType_Detchd  \\\n",
       "0            0.0                1.0                 0.0                0.0   \n",
       "1            0.0                1.0                 0.0                0.0   \n",
       "2            0.0                1.0                 0.0                0.0   \n",
       "\n",
       "   GarageType_infrequent_sklearn  \n",
       "0                            0.0  \n",
       "1                            0.0  \n",
       "2                            0.0  "
      ]
     },
     "execution_count": 383,
     "metadata": {},
     "output_type": "execute_result"
    }
   ],
   "source": [
    "# Fazendo o transform já em um DataFrame\n",
    "ohe_GarageType_df = pd.DataFrame(ohe_GarageType.transform(treino[['GarageType']]).toarray(),\n",
    "                              columns=ohe_GarageType.get_feature_names_out())\n",
    "ohe_GarageType_df.head(3)"
   ]
  },
  {
   "cell_type": "code",
   "execution_count": 384,
   "id": "b9a8a4cd",
   "metadata": {},
   "outputs": [],
   "source": [
    "# Unindo essa coluna com a base\n",
    "treino = pd.concat([treino,ohe_GarageType_df],axis=1)"
   ]
  },
  {
   "cell_type": "code",
   "execution_count": 385,
   "id": "db4beb83",
   "metadata": {},
   "outputs": [],
   "source": [
    "# Eliminando a coluna \"GarageType\"\n",
    "treino = treino.drop('GarageType',axis=1)"
   ]
  },
  {
   "cell_type": "markdown",
   "id": "47b51dee",
   "metadata": {},
   "source": [
    "- Vamos fazer o OrdinalEncoder para as outras 2 colunas\n",
    "    - GarageFinish: Interior finish of the garage\n",
    "        - Fin: Finished\n",
    "        - RFn: Rough Finished\t\n",
    "        - Unf: Unfinished\n",
    "        - NA: No Garage -> usamos o -1\n",
    "    - GarageQual: Garage quality\n",
    "        - Ex: Excellent\n",
    "        - Gd: Good\n",
    "        - TA: Typical/Average\n",
    "        - Fa: Fair\n",
    "        - Po: Poor\n",
    "        - NA: No Garage"
   ]
  },
  {
   "cell_type": "code",
   "execution_count": 386,
   "id": "5e46b170",
   "metadata": {},
   "outputs": [],
   "source": [
    "# Criando a lista de ordem dos valores\n",
    "GarageFinish_oe = ['Unf','RFn','Fin']\n",
    "GarageQual_oe = ['Po','Fa','TA','Gd','Ex']"
   ]
  },
  {
   "cell_type": "code",
   "execution_count": 387,
   "id": "3c09047b",
   "metadata": {},
   "outputs": [],
   "source": [
    "# Importando o OrdinalEncoder\n",
    "from sklearn.preprocessing import OrdinalEncoder"
   ]
  },
  {
   "cell_type": "code",
   "execution_count": 388,
   "id": "36dc12da",
   "metadata": {},
   "outputs": [],
   "source": [
    "# Criando o encoder\n",
    "oe_garagem = OrdinalEncoder(categories=[GarageFinish_oe,GarageQual_oe],\n",
    "                   handle_unknown='use_encoded_value',\n",
    "                   unknown_value=-1, dtype='int32')"
   ]
  },
  {
   "cell_type": "code",
   "execution_count": 389,
   "id": "dedcd1bb",
   "metadata": {},
   "outputs": [],
   "source": [
    "# Fazendo o fit com os dados\n",
    "oe_garagem = oe_garagem.fit(treino[['GarageFinish','GarageQual']])"
   ]
  },
  {
   "cell_type": "code",
   "execution_count": 390,
   "id": "6977393b",
   "metadata": {},
   "outputs": [
    {
     "data": {
      "text/plain": [
       "array([[1, 2],\n",
       "       [1, 2],\n",
       "       [1, 2],\n",
       "       ...,\n",
       "       [1, 2],\n",
       "       [0, 2],\n",
       "       [2, 2]])"
      ]
     },
     "execution_count": 390,
     "metadata": {},
     "output_type": "execute_result"
    }
   ],
   "source": [
    "# Transformando\n",
    "oe_garagem.transform(treino[['GarageFinish','GarageQual']])"
   ]
  },
  {
   "cell_type": "code",
   "execution_count": 391,
   "id": "a7e79e79",
   "metadata": {},
   "outputs": [],
   "source": [
    "# Substituindo na base de treino\n",
    "treino[['GarageFinishCheck','GarageQualCheck']] = treino[['GarageFinish','GarageQual']]\n",
    "treino[['GarageFinish','GarageQual']] = oe_garagem.transform(treino[['GarageFinish','GarageQual']])"
   ]
  },
  {
   "cell_type": "code",
   "execution_count": 392,
   "id": "fccade0c",
   "metadata": {},
   "outputs": [
    {
     "data": {
      "text/html": [
       "<div>\n",
       "<style scoped>\n",
       "    .dataframe tbody tr th:only-of-type {\n",
       "        vertical-align: middle;\n",
       "    }\n",
       "\n",
       "    .dataframe tbody tr th {\n",
       "        vertical-align: top;\n",
       "    }\n",
       "\n",
       "    .dataframe thead th {\n",
       "        text-align: right;\n",
       "    }\n",
       "</style>\n",
       "<table border=\"1\" class=\"dataframe\">\n",
       "  <thead>\n",
       "    <tr style=\"text-align: right;\">\n",
       "      <th></th>\n",
       "      <th>Id</th>\n",
       "      <th>MSSubClass</th>\n",
       "      <th>LotFrontage</th>\n",
       "      <th>LotArea</th>\n",
       "      <th>Street</th>\n",
       "      <th>Alley</th>\n",
       "      <th>LotShape</th>\n",
       "      <th>LandContour</th>\n",
       "      <th>LotConfig</th>\n",
       "      <th>LandSlope</th>\n",
       "      <th>...</th>\n",
       "      <th>MSZoning_RH</th>\n",
       "      <th>MSZoning_RL</th>\n",
       "      <th>MSZoning_RM</th>\n",
       "      <th>GarageType_-1</th>\n",
       "      <th>GarageType_Attchd</th>\n",
       "      <th>GarageType_BuiltIn</th>\n",
       "      <th>GarageType_Detchd</th>\n",
       "      <th>GarageType_infrequent_sklearn</th>\n",
       "      <th>GarageFinishCheck</th>\n",
       "      <th>GarageQualCheck</th>\n",
       "    </tr>\n",
       "  </thead>\n",
       "  <tbody>\n",
       "    <tr>\n",
       "      <th>0</th>\n",
       "      <td>1</td>\n",
       "      <td>60</td>\n",
       "      <td>65.0</td>\n",
       "      <td>8450</td>\n",
       "      <td>Pave</td>\n",
       "      <td>-1</td>\n",
       "      <td>Reg</td>\n",
       "      <td>Lvl</td>\n",
       "      <td>Inside</td>\n",
       "      <td>Gtl</td>\n",
       "      <td>...</td>\n",
       "      <td>0.0</td>\n",
       "      <td>1.0</td>\n",
       "      <td>0.0</td>\n",
       "      <td>0.0</td>\n",
       "      <td>1.0</td>\n",
       "      <td>0.0</td>\n",
       "      <td>0.0</td>\n",
       "      <td>0.0</td>\n",
       "      <td>RFn</td>\n",
       "      <td>TA</td>\n",
       "    </tr>\n",
       "    <tr>\n",
       "      <th>1</th>\n",
       "      <td>2</td>\n",
       "      <td>20</td>\n",
       "      <td>80.0</td>\n",
       "      <td>9600</td>\n",
       "      <td>Pave</td>\n",
       "      <td>-1</td>\n",
       "      <td>Reg</td>\n",
       "      <td>Lvl</td>\n",
       "      <td>FR2</td>\n",
       "      <td>Gtl</td>\n",
       "      <td>...</td>\n",
       "      <td>0.0</td>\n",
       "      <td>1.0</td>\n",
       "      <td>0.0</td>\n",
       "      <td>0.0</td>\n",
       "      <td>1.0</td>\n",
       "      <td>0.0</td>\n",
       "      <td>0.0</td>\n",
       "      <td>0.0</td>\n",
       "      <td>RFn</td>\n",
       "      <td>TA</td>\n",
       "    </tr>\n",
       "    <tr>\n",
       "      <th>2</th>\n",
       "      <td>3</td>\n",
       "      <td>60</td>\n",
       "      <td>68.0</td>\n",
       "      <td>11250</td>\n",
       "      <td>Pave</td>\n",
       "      <td>-1</td>\n",
       "      <td>IR1</td>\n",
       "      <td>Lvl</td>\n",
       "      <td>Inside</td>\n",
       "      <td>Gtl</td>\n",
       "      <td>...</td>\n",
       "      <td>0.0</td>\n",
       "      <td>1.0</td>\n",
       "      <td>0.0</td>\n",
       "      <td>0.0</td>\n",
       "      <td>1.0</td>\n",
       "      <td>0.0</td>\n",
       "      <td>0.0</td>\n",
       "      <td>0.0</td>\n",
       "      <td>RFn</td>\n",
       "      <td>TA</td>\n",
       "    </tr>\n",
       "  </tbody>\n",
       "</table>\n",
       "<p>3 rows × 87 columns</p>\n",
       "</div>"
      ],
      "text/plain": [
       "   Id  MSSubClass  LotFrontage  LotArea Street Alley LotShape LandContour  \\\n",
       "0   1          60         65.0     8450   Pave    -1      Reg         Lvl   \n",
       "1   2          20         80.0     9600   Pave    -1      Reg         Lvl   \n",
       "2   3          60         68.0    11250   Pave    -1      IR1         Lvl   \n",
       "\n",
       "  LotConfig LandSlope  ... MSZoning_RH MSZoning_RL MSZoning_RM GarageType_-1  \\\n",
       "0    Inside       Gtl  ...         0.0         1.0         0.0           0.0   \n",
       "1       FR2       Gtl  ...         0.0         1.0         0.0           0.0   \n",
       "2    Inside       Gtl  ...         0.0         1.0         0.0           0.0   \n",
       "\n",
       "  GarageType_Attchd  GarageType_BuiltIn  GarageType_Detchd  \\\n",
       "0               1.0                 0.0                0.0   \n",
       "1               1.0                 0.0                0.0   \n",
       "2               1.0                 0.0                0.0   \n",
       "\n",
       "   GarageType_infrequent_sklearn  GarageFinishCheck GarageQualCheck  \n",
       "0                            0.0                RFn              TA  \n",
       "1                            0.0                RFn              TA  \n",
       "2                            0.0                RFn              TA  \n",
       "\n",
       "[3 rows x 87 columns]"
      ]
     },
     "execution_count": 392,
     "metadata": {},
     "output_type": "execute_result"
    }
   ],
   "source": [
    "# Visualizando o resultado\n",
    "treino.head(3)"
   ]
  },
  {
   "cell_type": "code",
   "execution_count": 393,
   "id": "7b11f150",
   "metadata": {},
   "outputs": [
    {
     "data": {
      "text/plain": [
       "GarageFinishCheck  GarageFinish\n",
       "Unf                 0              605\n",
       "RFn                 1              422\n",
       "Fin                 2              352\n",
       "-1                 -1               81\n",
       "dtype: int64"
      ]
     },
     "execution_count": 393,
     "metadata": {},
     "output_type": "execute_result"
    }
   ],
   "source": [
    "# Agrupando os dados de GarageFinish\n",
    "treino[['GarageFinishCheck','GarageFinish']].value_counts()"
   ]
  },
  {
   "cell_type": "code",
   "execution_count": 394,
   "id": "0473182c",
   "metadata": {},
   "outputs": [
    {
     "data": {
      "text/plain": [
       "GarageQualCheck  GarageQual\n",
       "TA                2            1311\n",
       "-1               -1              81\n",
       "Fa                1              48\n",
       "Gd                3              14\n",
       "Ex                4               3\n",
       "Po                0               3\n",
       "dtype: int64"
      ]
     },
     "execution_count": 394,
     "metadata": {},
     "output_type": "execute_result"
    }
   ],
   "source": [
    "# E de GarageQual\n",
    "treino[['GarageQualCheck','GarageQual']].value_counts()"
   ]
  },
  {
   "cell_type": "code",
   "execution_count": 395,
   "id": "bc4a20a2",
   "metadata": {},
   "outputs": [],
   "source": [
    "# E então apagando essas duas colunas de check\n",
    "treino = treino.drop(['GarageFinishCheck','GarageQualCheck'],axis=1)"
   ]
  },
  {
   "cell_type": "markdown",
   "id": "e02dbcf0",
   "metadata": {},
   "source": [
    "- Fazendo todos os tratamentos para a **<font color='blue'>base de teste</font>**"
   ]
  },
  {
   "cell_type": "code",
   "execution_count": 396,
   "id": "7f1741d8",
   "metadata": {},
   "outputs": [],
   "source": [
    "# Apagando a coluna \"GarageCond\"\n",
    "teste = teste.drop('GarageCond',axis=1)"
   ]
  },
  {
   "cell_type": "code",
   "execution_count": 397,
   "id": "660fd7ab",
   "metadata": {},
   "outputs": [],
   "source": [
    "# Eliminando a coluna GarageArea\n",
    "teste = teste.drop('GarageArea',axis=1)"
   ]
  },
  {
   "cell_type": "code",
   "execution_count": 398,
   "id": "90182cca",
   "metadata": {},
   "outputs": [],
   "source": [
    "# Também podemos eliminar essa coluna de GarageYrBlt\n",
    "teste = teste.drop('GarageYrBlt',axis=1)"
   ]
  },
  {
   "cell_type": "code",
   "execution_count": 399,
   "id": "ed3ff716",
   "metadata": {},
   "outputs": [],
   "source": [
    "# Utilizando o encoder do 'GarageType'\n",
    "ohe_GarageType_df = pd.DataFrame(ohe_GarageType.transform(teste[['GarageType']]).toarray(),\n",
    "                              columns=ohe_GarageType.get_feature_names_out())\n",
    "\n",
    "teste = pd.concat([teste,ohe_GarageType_df],axis=1)\n",
    "\n",
    "teste = teste.drop('GarageType',axis=1)"
   ]
  },
  {
   "cell_type": "code",
   "execution_count": 400,
   "id": "f8fb0fb7",
   "metadata": {},
   "outputs": [],
   "source": [
    "# Utilizando o OrdinalEncoder para as colunas 'GarageFinish' e 'GarageQual'\n",
    "teste[['GarageFinish','GarageQual']] = oe_garagem.transform(teste[['GarageFinish','GarageQual']])"
   ]
  },
  {
   "cell_type": "code",
   "execution_count": 401,
   "id": "d9043f0f",
   "metadata": {},
   "outputs": [],
   "source": [
    "# Exportando a base até esse momento\n",
    "treino.to_csv('train_3_1.csv',index=False)\n",
    "teste.to_csv('test_3_1.csv',index=False)"
   ]
  }
 ],
 "metadata": {
  "kernelspec": {
   "display_name": "Python 3 (ipykernel)",
   "language": "python",
   "name": "python3"
  },
  "language_info": {
   "codemirror_mode": {
    "name": "ipython",
    "version": 3
   },
   "file_extension": ".py",
   "mimetype": "text/x-python",
   "name": "python",
   "nbconvert_exporter": "python",
   "pygments_lexer": "ipython3",
   "version": "3.9.13"
  }
 },
 "nbformat": 4,
 "nbformat_minor": 5
}
